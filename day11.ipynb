{
 "cells": [
  {
   "cell_type": "code",
   "execution_count": 43,
   "metadata": {},
   "outputs": [
    {
     "name": "stdout",
     "output_type": "stream",
     "text": [
      "round 0 [5, 7, 3, 4, 9, 8, 12, 10]\n",
      "round 19 [100, 247, 168, 188, 248, 193, 139, 98]\n",
      "round 999 [4632, 13080, 8774, 9497, 10765, 9600, 7418, 4183]\n",
      "round 1999 [9222, 26193, 17556, 19012, 21505, 19222, 14859, 8341]\n",
      "part 2 14081365540\n"
     ]
    }
   ],
   "source": [
    "import re\n",
    "from collections import defaultdict\n",
    "import sys \n",
    "sys.set_int_max_str_digits(999999)\n",
    "\n",
    "monkey_text = open(\"inputs/day11.txt\").read().split(\"\\n\\n\")\n",
    "class Monkey:\n",
    "    def __init__(self, text):\n",
    "        self.text = text.split(\"\\n\")\n",
    "        self.items = [int(x) for x in re.findall(r\"\\d+\", self.text[1])]\n",
    "        self.div_by = int(re.findall(r\"\\d+\", self.text[3])[0])\n",
    "    def pop_item(self):\n",
    "        return self.items.pop(0)\n",
    "\n",
    "    def calculate_worry_level(self, item):\n",
    "        operation = self.text[2]\n",
    "        math_operation = re.findall(r\"[+*]\", operation)[0]\n",
    "        operation = operation.replace(\"old\", str(0))\n",
    "        operate_on = [int(x) if int(x) != 0 else item for x in re.findall(r\"\\d+\", operation)]\n",
    "\n",
    "        if math_operation == \"+\":\n",
    "            return operate_on[0] + operate_on[1]\n",
    "        elif math_operation == \"*\":\n",
    "            return operate_on[0] * operate_on[1]\n",
    "\n",
    "    def get_next_monkey(self, item):\n",
    "        if item % self.div_by == 0:\n",
    "            throw_to = int(re.findall(r\"\\d+\", self.text[4])[0])\n",
    "        else: \n",
    "            throw_to = int(re.findall(r\"\\d+\", self.text[5])[0])\n",
    "        return throw_to\n",
    "\n",
    "monkeys = list()\n",
    "for id, text in enumerate(monkey_text): \n",
    "    monkey = Monkey(text)\n",
    "    monkeys.append(monkey)\n",
    "magic_divisor = 1\n",
    "for m in monkeys:\n",
    "    magic_divisor *= m.div_by\n",
    "\n",
    "count_num_items = [0 for m in monkeys]\n",
    "part1 = False\n",
    "num_rounds = 20 if part1 else 10000\n",
    "for round in range(num_rounds): \n",
    "    # print(round)\n",
    "    for id, monkey in enumerate(monkeys):\n",
    "      #  print(\"monkey\", id)\n",
    "        while monkey.items:\n",
    "            count_num_items[id] += 1\n",
    "            item = monkey.pop_item()\n",
    "            worry_level = monkey.calculate_worry_level(item)\n",
    "          #  print('worry level', worry_level, worry_level // 3)\n",
    "            if part1: \n",
    "                worry_level = worry_level // 3\n",
    "            else:\n",
    "                worry_level = worry_level % magic_divisor\n",
    "\n",
    "            next_monkey = monkey.get_next_monkey(worry_level)\n",
    "         #   print('next monkey', next_monkey, 'gets item', worry_level)\n",
    "            monkeys[next_monkey].items.append(worry_level)\n",
    "    \n",
    "    if round in [0, 19, 1000-1, 2000-1]: \n",
    "        #count_num_items.sort(reverse=True)\n",
    "        print(\"round\", round, count_num_items)\n",
    "    # print(\"round\", round)\n",
    "    # for id, monkey in enumerate(monkeys):\n",
    "    #     print(id, monkey.items)\n",
    "\n",
    "\n",
    "count_num_items.sort(reverse=True)\n",
    "part = 1 if part1 else 2\n",
    "print(\"part\", part, count_num_items[0]*count_num_items[1])        "
   ]
  },
  {
   "cell_type": "code",
   "execution_count": null,
   "metadata": {},
   "outputs": [],
   "source": []
  }
 ],
 "metadata": {
  "kernelspec": {
   "display_name": "Python 3.10.8 ('py_310')",
   "language": "python",
   "name": "python3"
  },
  "language_info": {
   "codemirror_mode": {
    "name": "ipython",
    "version": 3
   },
   "file_extension": ".py",
   "mimetype": "text/x-python",
   "name": "python",
   "nbconvert_exporter": "python",
   "pygments_lexer": "ipython3",
   "version": "3.10.8"
  },
  "orig_nbformat": 4,
  "vscode": {
   "interpreter": {
    "hash": "da71e0930131d5511609c028eb08f8f6054bf56d7991754172f4b09ef82dda00"
   }
  }
 },
 "nbformat": 4,
 "nbformat_minor": 2
}
