{
 "cells": [
  {
   "cell_type": "code",
   "execution_count": 1,
   "metadata": {},
   "outputs": [
    {
     "name": "stdout",
     "output_type": "stream",
     "text": [
      "part 1 8721\n",
      "0\n",
      "1\n",
      "2\n",
      "3\n",
      "4\n",
      "5\n",
      "6\n",
      "7\n",
      "8\n",
      "9\n",
      "part 2 831878881825\n"
     ]
    }
   ],
   "source": [
    "def get_init(decryption_key=1):\n",
    "    lines = open('inputs/day20.txt').readlines()\n",
    "    lines = [line.strip() for line in lines]\n",
    "\n",
    "    # As we need to shuffle the numbers in the order they originally appear, \n",
    "    # we need to keep track of the original position\n",
    "    numbers = [(i, int(x) * decryption_key) for i, x in enumerate(lines)]\n",
    "    original_numbers = [x[1] for x in numbers]\n",
    "    return numbers, original_numbers\n",
    "\n",
    "def shuffle(numbers, original_numbers): \n",
    "    for i, line in enumerate(original_numbers):\n",
    "        number = int(line)\n",
    "        tofind = (i, number)\n",
    "\n",
    "        # Find where the number is\n",
    "        index = numbers.index(tofind)\n",
    "\n",
    "        # Concatenate the left and right list and find the new position\n",
    "        left_list = numbers[:index]\n",
    "        right_list = numbers[index+1:]\n",
    "        temp = left_list + right_list\n",
    "\n",
    "        # Insert the number at the new position\n",
    "        # TODO: I seem to have some issues with either adding the number to the end or the beginning\n",
    "        # However, for the checksum that is not relevant, so I just add it to the end\n",
    "        newpos = (index+number) % len(temp)\n",
    "        if newpos == 0:\n",
    "            temp.append(tofind)\n",
    "        else:\n",
    "            temp.insert(newpos, tofind)\n",
    "\n",
    "        # Update the numbers\n",
    "        numbers = temp\n",
    "        \n",
    "    return numbers\n",
    "\n",
    "def get_checksum(numbers):\n",
    "    summed = 0\n",
    "    indices = [1000, 2000, 3000]\n",
    "\n",
    "    # Find the index of the zero \n",
    "    for index_zero, x in enumerate(numbers):\n",
    "        if x[1] == 0:\n",
    "            break\n",
    "    \n",
    "    # Get the checksum\n",
    "    for i in indices:\n",
    "        summed += numbers[(index_zero + i)%len(numbers)][1]\n",
    "    return summed\n",
    "\n",
    "numbers, original = get_init(decryption_key=1)\n",
    "numbers = shuffle(numbers, original)\n",
    "print('part 1', get_checksum(numbers))\n",
    "\n",
    "# For part 2 we simply shuffle 10 times, but init with a different decryption key\n",
    "numbers, original = get_init(decryption_key=811589153)\n",
    "for i in range(10):\n",
    "    print(i)\n",
    "    shuffled = shuffle(numbers, original)\n",
    "    numbers = shuffled\n",
    "print('part 2', get_checksum(numbers))"
   ]
  },
  {
   "cell_type": "code",
   "execution_count": null,
   "metadata": {},
   "outputs": [],
   "source": []
  },
  {
   "cell_type": "code",
   "execution_count": null,
   "metadata": {},
   "outputs": [],
   "source": []
  },
  {
   "cell_type": "code",
   "execution_count": null,
   "metadata": {},
   "outputs": [],
   "source": []
  }
 ],
 "metadata": {
  "kernelspec": {
   "display_name": "py_310",
   "language": "python",
   "name": "python3"
  },
  "language_info": {
   "codemirror_mode": {
    "name": "ipython",
    "version": 3
   },
   "file_extension": ".py",
   "mimetype": "text/x-python",
   "name": "python",
   "nbconvert_exporter": "python",
   "pygments_lexer": "ipython3",
   "version": "3.10.8 (main, Nov 24 2022, 08:09:04) [Clang 14.0.6 ]"
  },
  "orig_nbformat": 4,
  "vscode": {
   "interpreter": {
    "hash": "da71e0930131d5511609c028eb08f8f6054bf56d7991754172f4b09ef82dda00"
   }
  }
 },
 "nbformat": 4,
 "nbformat_minor": 2
}
