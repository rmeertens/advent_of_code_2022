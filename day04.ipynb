{
 "cells": [
  {
   "cell_type": "code",
   "execution_count": 1,
   "metadata": {},
   "outputs": [],
   "source": [
    "lines = open('inputs/day04.txt').readlines()\n",
    "lines = [line.strip() for line in lines]"
   ]
  },
  {
   "cell_type": "code",
   "execution_count": 4,
   "metadata": {},
   "outputs": [],
   "source": [
    "fully_contains_other = 0\n",
    "some_overlap = 0\n",
    "for line in lines:\n",
    "    elf1, elf2 = line.split(',')\n",
    "    s1, e1 = elf1.split('-')\n",
    "    s2, e2 = elf2.split('-')\n",
    "    s1, e1, s2, e2 = int(s1), int(e1), int(s2), int(e2)\n",
    "\n",
    "    # See if one range fully contains the other\n",
    "    if s1 <= s2 and e1 >= e2:\n",
    "        fully_contains_other += 1\n",
    "    elif s2 <= s1 and e2 >= e1:\n",
    "        fully_contains_other += 1\n",
    "\n",
    "    # See if there is any overlap\n",
    "    if s1 <= s2 <= e1 or s1 <= e2 <= e1: # Checks if s2 is in range of s1-e1 or e2 is in range of s1-e1\n",
    "        some_overlap += 1\n",
    "    elif s2 <= s1 <= e2 or s2 <= e1 <= e2: # Checks if s1 is in range of s2-e2 or e1 is in range of s2-e2\n",
    "        some_overlap += 1\n",
    "\n",
    "print('Part 1:', fully_contains_other, 'Part 2:', some_overlap)\n",
    "\n",
    "    "
   ]
  },
  {
   "cell_type": "code",
   "execution_count": 3,
   "metadata": {},
   "outputs": [
    {
     "data": {
      "text/plain": [
       "588"
      ]
     },
     "execution_count": 3,
     "metadata": {},
     "output_type": "execute_result"
    }
   ],
   "source": [
    "fully_contains_other"
   ]
  },
  {
   "cell_type": "code",
   "execution_count": 5,
   "metadata": {},
   "outputs": [
    {
     "data": {
      "text/plain": [
       "911"
      ]
     },
     "execution_count": 5,
     "metadata": {},
     "output_type": "execute_result"
    }
   ],
   "source": [
    "some_overlap"
   ]
  },
  {
   "cell_type": "code",
   "execution_count": null,
   "metadata": {},
   "outputs": [],
   "source": []
  }
 ],
 "metadata": {
  "kernelspec": {
   "display_name": "Python 3.10.8 ('py_310')",
   "language": "python",
   "name": "python3"
  },
  "language_info": {
   "codemirror_mode": {
    "name": "ipython",
    "version": 3
   },
   "file_extension": ".py",
   "mimetype": "text/x-python",
   "name": "python",
   "nbconvert_exporter": "python",
   "pygments_lexer": "ipython3",
   "version": "3.10.8"
  },
  "orig_nbformat": 4,
  "vscode": {
   "interpreter": {
    "hash": "da71e0930131d5511609c028eb08f8f6054bf56d7991754172f4b09ef82dda00"
   }
  }
 },
 "nbformat": 4,
 "nbformat_minor": 2
}
