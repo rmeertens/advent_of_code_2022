{
 "cells": [
  {
   "cell_type": "code",
   "execution_count": 1,
   "metadata": {},
   "outputs": [],
   "source": [
    "lines = open('inputs/day02.txt').readlines()\n",
    "lines = [line.strip() for line in lines]"
   ]
  },
  {
   "cell_type": "code",
   "execution_count": 2,
   "metadata": {},
   "outputs": [
    {
     "name": "stdout",
     "output_type": "stream",
     "text": [
      "part 1 11873\n"
     ]
    }
   ],
   "source": [
    "score_i_play = {\n",
    "    'X': 1,\n",
    "    'Y': 2,\n",
    "    'Z': 3,\n",
    "}\n",
    "\n",
    "symbol_to_rps = {\n",
    "    'X': 'Rock',\n",
    "    'Y': 'Paper',\n",
    "    'Z': 'Scissors',\n",
    "    'A': 'Rock',\n",
    "    'B': 'Paper',\n",
    "    'C': 'Scissors',\n",
    "}\n",
    "\n",
    "def get_score(me, opponent):\n",
    "    if me == opponent:\n",
    "        return 3\n",
    "    if me == 'Rock' and opponent == 'Scissors':\n",
    "        return 6\n",
    "    if me == 'Rock' and opponent == 'Paper':\n",
    "        return 0\n",
    "    if me == 'Paper' and opponent == 'Rock':\n",
    "        return 6\n",
    "    if me == 'Paper' and opponent == 'Scissors':\n",
    "        return 0\n",
    "    if me == 'Scissors' and opponent == 'Rock':\n",
    "        return 0\n",
    "    if me == 'Scissors' and opponent == 'Paper':\n",
    "        return 6\n",
    "    else: \n",
    "        raise ValueError('Invalid input')\n",
    "\n",
    "score = 0\n",
    "for line in lines:\n",
    "    opponent_played, my_played = line.split(' ')\n",
    "\n",
    "    # Add score based on what I played\n",
    "    score += score_i_play[my_played]\n",
    "\n",
    "    # Add score based on whether I won or lost\n",
    "    score += get_score(symbol_to_rps[my_played], symbol_to_rps[opponent_played])\n",
    "print('part 1', score)"
   ]
  },
  {
   "cell_type": "code",
   "execution_count": 3,
   "metadata": {},
   "outputs": [
    {
     "name": "stdout",
     "output_type": "stream",
     "text": [
      "part 2 12014\n"
     ]
    }
   ],
   "source": [
    "char_to_outcome = {\n",
    "    'X': 'lose',\n",
    "    'Y': 'draw',\n",
    "    'Z': 'win',\n",
    "}\n",
    "\n",
    "sign_to_number = {\n",
    "    'A': 0,\n",
    "    'B': 1,\n",
    "    'C': 2,\n",
    "}\n",
    "\n",
    "score = 0 \n",
    "for line in lines:\n",
    "    opponent_played, my_played = line.split(' ')\n",
    "    \n",
    "    # Determine what I need to play based on what the opponent played and what the outcome needs to be\n",
    "    opponent_number = sign_to_number[opponent_played]\n",
    "    if char_to_outcome[my_played] == 'win':\n",
    "        my_number = (opponent_number + 1) % 3\n",
    "        score += 6\n",
    "    elif char_to_outcome[my_played] == 'draw':\n",
    "        my_number = opponent_number\n",
    "        score += 3\n",
    "    elif char_to_outcome[my_played] == 'lose':\n",
    "        my_number = (opponent_number - 1) % 3\n",
    "        score += 0\n",
    "    \n",
    "    # Add score based on what I played\n",
    "    score += my_number + 1\n",
    "print('part 2', score)"
   ]
  },
  {
   "cell_type": "code",
   "execution_count": null,
   "metadata": {},
   "outputs": [],
   "source": []
  }
 ],
 "metadata": {
  "kernelspec": {
   "display_name": "Python 3.10.8 ('py_310')",
   "language": "python",
   "name": "python3"
  },
  "language_info": {
   "codemirror_mode": {
    "name": "ipython",
    "version": 3
   },
   "file_extension": ".py",
   "mimetype": "text/x-python",
   "name": "python",
   "nbconvert_exporter": "python",
   "pygments_lexer": "ipython3",
   "version": "3.10.8"
  },
  "orig_nbformat": 4,
  "vscode": {
   "interpreter": {
    "hash": "da71e0930131d5511609c028eb08f8f6054bf56d7991754172f4b09ef82dda00"
   }
  }
 },
 "nbformat": 4,
 "nbformat_minor": 2
}
