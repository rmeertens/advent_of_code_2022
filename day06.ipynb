{
 "cells": [
  {
   "cell_type": "code",
   "execution_count": 5,
   "metadata": {},
   "outputs": [
    {
     "name": "stdout",
     "output_type": "stream",
     "text": [
      "part 1 1804\n",
      "part 2 2508\n"
     ]
    }
   ],
   "source": [
    "lines = open('inputs/day06.txt').readlines()\n",
    "lines = [line.strip() for line in lines]\n",
    "line = lines[0]\n",
    "\n",
    "def start_of_marker(line, num_chars):    \n",
    "    for end in range(num_chars, len(line)):\n",
    "        start = end - num_chars\n",
    "        if len(set(line[start:end])) == num_chars:\n",
    "            return end\n",
    "    raise ValueError('No marker found')\n",
    "print('part 1', start_of_marker(line, 4))\n",
    "print('part 2', start_of_marker(line, 14))\n"
   ]
  },
  {
   "cell_type": "code",
   "execution_count": null,
   "metadata": {},
   "outputs": [],
   "source": []
  },
  {
   "cell_type": "code",
   "execution_count": 6,
   "metadata": {},
   "outputs": [
    {
     "name": "stdout",
     "output_type": "stream",
     "text": [
      "part 1 1804\n",
      "part 2 2508\n"
     ]
    }
   ],
   "source": [
    "from collections import Counter\n",
    "def start_of_marker(line, num_chars):    \n",
    "    count = Counter()\n",
    "    for i, char in enumerate(line):\n",
    "        count[char]+=1\n",
    "        if i >= num_chars:\n",
    "            count[line[i-num_chars]]-=1 # Remove the char that is no longer in the window\n",
    "            assert sum(count.values()) == num_chars\n",
    "            \n",
    "            if max(count.values()) == 1: # If all unique the highest count is 1\n",
    "                return i+1\n",
    "    raise ValueError('No marker found')\n",
    "print('part 1', start_of_marker(line, 4))\n",
    "print('part 2', start_of_marker(line, 14))"
   ]
  },
  {
   "cell_type": "code",
   "execution_count": 7,
   "metadata": {},
   "outputs": [
    {
     "name": "stdout",
     "output_type": "stream",
     "text": [
      "part 1 1804\n",
      "part 2 2508\n"
     ]
    }
   ],
   "source": [
    "def start_of_marker(line, num_chars):    \n",
    "    for end in range(num_chars, len(line)):\n",
    "        start = end - num_chars\n",
    "        window = sorted(line[start:end])\n",
    "        is_unique = True\n",
    "        for i in range(num_chars-1):\n",
    "            if window[i] == window[i+1]:\n",
    "                is_unique = False\n",
    "                break\n",
    "        if is_unique:\n",
    "            return end\n",
    "    raise ValueError('No marker found')\n",
    "print('part 1', start_of_marker(line, 4))\n",
    "print('part 2', start_of_marker(line, 14))\n"
   ]
  },
  {
   "cell_type": "code",
   "execution_count": null,
   "metadata": {},
   "outputs": [],
   "source": []
  }
 ],
 "metadata": {
  "kernelspec": {
   "display_name": "Python 3.10.8 ('py_310')",
   "language": "python",
   "name": "python3"
  },
  "language_info": {
   "codemirror_mode": {
    "name": "ipython",
    "version": 3
   },
   "file_extension": ".py",
   "mimetype": "text/x-python",
   "name": "python",
   "nbconvert_exporter": "python",
   "pygments_lexer": "ipython3",
   "version": "3.10.8"
  },
  "orig_nbformat": 4,
  "vscode": {
   "interpreter": {
    "hash": "da71e0930131d5511609c028eb08f8f6054bf56d7991754172f4b09ef82dda00"
   }
  }
 },
 "nbformat": 4,
 "nbformat_minor": 2
}
