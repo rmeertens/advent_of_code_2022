{
 "cells": [
  {
   "cell_type": "code",
   "execution_count": 3,
   "metadata": {},
   "outputs": [
    {
     "name": "stdout",
     "output_type": "stream",
     "text": [
      "Found it! 295\n",
      "Part 1 295\n",
      "Found it! 556\n",
      "Found it! 851\n",
      "Part 2 851\n"
     ]
    }
   ],
   "source": [
    "from collections import defaultdict\n",
    "import heapq\n",
    "lines= [line.strip() for line in open('inputs/day24.txt')]\n",
    "has_wall = defaultdict(lambda: False)\n",
    "has_wall[(1, -1)] = True # Block the entrance! At X=1, Y=-1\n",
    "has_wall[(len(lines[0])-2, len(lines))] = True # Block the exit! \n",
    "blizzards = list()\n",
    "for y, line in enumerate(lines):\n",
    "    for x, c in enumerate(line):\n",
    "        has_wall[(x, y)] = c == '#'\n",
    "\n",
    "        if c in \"<v>^\":\n",
    "            blizzards.append((x, y, c))\n",
    "\n",
    "startpos = (1,0) # X = 1, Y = 0\n",
    "\n",
    "def update(blizzards):\n",
    "    new_blizzards = list()\n",
    "    for x, y, c in blizzards:\n",
    "        delta = {'<': (-1, 0), '>': (1, 0), '^': (0, -1), 'v': (0, 1)}[c]\n",
    "        new_x, new_y = x + delta[0], y + delta[1]\n",
    "        while has_wall[(new_x, new_y)]:\n",
    "            # Wrap around\n",
    "            new_x, new_y = (new_x + delta[0])%len(lines[0]), (new_y + delta[1])%len(lines)\n",
    "        new_blizzards.append((new_x, new_y, c))\n",
    "    return new_blizzards\n",
    "\n",
    "def distance_to(pos1, pos2): \n",
    "    return abs(pos1[0]-pos2[0]) + abs(pos1[1]-pos2[1])\n",
    "\n",
    "def search(startpos, endpos, start_steps, has_wall, blizzard_states, blizzard_sets):\n",
    "    search_queue = [(distance_to(startpos, endpos), startpos, start_steps)] # (h+f, pos, f-steps taken)\n",
    "    visited = set()\n",
    "    \n",
    "    while search_queue:\n",
    "        hplusf, pos, steps_so_far = heapq.heappop(search_queue)\n",
    "        if pos == endpos:\n",
    "            print(\"Found it!\", steps_so_far)\n",
    "            return steps_so_far\n",
    "\n",
    "        new_steps = steps_so_far + 1\n",
    "        if new_steps >= len(blizzard_states): \n",
    "            blizzard_states.append(update(blizzard_states[-1]))\n",
    "            blizzard_sets.append(set((x, y) for (x, y, c) in blizzard_states[-1]))\n",
    "\n",
    "        for delta in [(0, -1), (0, 1), (-1, 0), (1, 0), (0,0)]: # all directions AND stay still\n",
    "            new_pos = (pos[0] + delta[0], pos[1] + delta[1])\n",
    "            if not has_wall[new_pos]:\n",
    "                has_blizzard = new_pos in blizzard_sets[new_steps]\n",
    "                    \n",
    "                if not has_blizzard:\n",
    "                    new_state = (new_pos, new_steps)\n",
    "                    if new_state not in visited:\n",
    "                        visited.add(new_state)\n",
    "                        heapq.heappush(search_queue, (distance_to(new_pos, endpos) + new_steps, new_pos, new_steps))\n",
    "\n",
    "blizzard_states = [blizzards]\n",
    "blizzard_sets = [set((x, y) for (x, y, c) in blizzards)]\n",
    "\n",
    "steps_so_far = 0\n",
    "steps_so_far = search(startpos, (len(lines[0])-2, len(lines)-1), 0, has_wall, blizzard_states, blizzard_sets)\n",
    "print('Part 1', steps_so_far)\n",
    "steps_so_far = search((len(lines[0])-2, len(lines)-1), startpos, steps_so_far, has_wall, blizzard_states, blizzard_sets)\n",
    "steps_so_far = search(startpos, (len(lines[0])-2, len(lines)-1), steps_so_far, has_wall, blizzard_states, blizzard_sets)\n",
    "print('Part 2', steps_so_far)\n",
    "\n",
    "            "
   ]
  }
 ],
 "metadata": {
  "kernelspec": {
   "display_name": "py_310",
   "language": "python",
   "name": "python3"
  },
  "language_info": {
   "codemirror_mode": {
    "name": "ipython",
    "version": 3
   },
   "file_extension": ".py",
   "mimetype": "text/x-python",
   "name": "python",
   "nbconvert_exporter": "python",
   "pygments_lexer": "ipython3",
   "version": "3.10.8"
  },
  "orig_nbformat": 4,
  "vscode": {
   "interpreter": {
    "hash": "da71e0930131d5511609c028eb08f8f6054bf56d7991754172f4b09ef82dda00"
   }
  }
 },
 "nbformat": 4,
 "nbformat_minor": 2
}
