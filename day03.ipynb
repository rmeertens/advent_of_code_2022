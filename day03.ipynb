{
 "cells": [
  {
   "cell_type": "code",
   "execution_count": 10,
   "metadata": {},
   "outputs": [
    {
     "name": "stdout",
     "output_type": "stream",
     "text": [
      "Part 17875\n",
      "Part 22479\n"
     ]
    }
   ],
   "source": [
    "lines = open('inputs/day03.txt').readlines()\n",
    "lines = [line.strip() for line in lines]\n",
    "\n",
    "def score(letter): \n",
    "     # for lower case letters, the priority is the letter's position in the alphabet\n",
    "    if letter.islower():\n",
    "        return ord(letter) - ord('a') + 1\n",
    "    else: # for upper case letters, the priority is the letter's position in the alphabet + 26\n",
    "        return ord(letter) - ord('A') + 1 + 26\n",
    "\n",
    "total_priority = 0\n",
    "for line in lines:\n",
    "    left, right = line[:len(line)//2], line[len(line)//2:]\n",
    "    assert len(left) == len(right)\n",
    "\n",
    "    # Find which letter appears in both left and right\n",
    "    for letter in left:\n",
    "        if letter in right:\n",
    "            total_priority += score(letter)\n",
    "            break\n",
    "\n",
    "print(f\"Part 1{total_priority}\")\n",
    "\n",
    "def chunker(seq, size):\n",
    "    return (seq[pos:pos + size] for pos in range(0, len(seq), size))\n",
    "\n",
    "total_priority = 0\n",
    "for chunk in chunker(lines, 3): \n",
    "    for letter in chunk[0]: # for each letter in the first line\n",
    "        if letter in chunk[1] and letter in chunk[2]:\n",
    "            total_priority += score(letter)\n",
    "            break\n",
    "print(f\"Part 2{total_priority}\")"
   ]
  },
  {
   "cell_type": "code",
   "execution_count": 16,
   "metadata": {},
   "outputs": [],
   "source": []
  },
  {
   "cell_type": "code",
   "execution_count": null,
   "metadata": {},
   "outputs": [],
   "source": [
    "\n"
   ]
  },
  {
   "cell_type": "code",
   "execution_count": null,
   "metadata": {},
   "outputs": [],
   "source": []
  }
 ],
 "metadata": {
  "kernelspec": {
   "display_name": "Python 3.10.8 ('py_310')",
   "language": "python",
   "name": "python3"
  },
  "language_info": {
   "codemirror_mode": {
    "name": "ipython",
    "version": 3
   },
   "file_extension": ".py",
   "mimetype": "text/x-python",
   "name": "python",
   "nbconvert_exporter": "python",
   "pygments_lexer": "ipython3",
   "version": "3.10.8"
  },
  "orig_nbformat": 4,
  "vscode": {
   "interpreter": {
    "hash": "da71e0930131d5511609c028eb08f8f6054bf56d7991754172f4b09ef82dda00"
   }
  }
 },
 "nbformat": 4,
 "nbformat_minor": 2
}
