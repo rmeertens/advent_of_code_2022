{
 "cells": [
  {
   "cell_type": "code",
   "execution_count": 84,
   "metadata": {},
   "outputs": [],
   "source": [
    "lines = open('inputs/day08.txt').readlines()\n",
    "lines = [line.strip() for line in lines]"
   ]
  },
  {
   "cell_type": "code",
   "execution_count": 85,
   "metadata": {},
   "outputs": [
    {
     "name": "stdout",
     "output_type": "stream",
     "text": [
      "1849\n"
     ]
    }
   ],
   "source": [
    "from collections import defaultdict\n",
    "is_visible = defaultdict(lambda: False)\n",
    "\n",
    "tree_height = dict()\n",
    "for y, line in enumerate(lines):\n",
    "    for x, char in enumerate(line):\n",
    "        tree_height[(y, x)] = int(char)\n",
    "\n",
    "\n",
    "def horizontal_sweep(starty, startx, endy, endx, deltay, deltax):\n",
    "    num_visible = 0\n",
    "    for y in range(starty, endy, deltay):\n",
    "        max_height = -1\n",
    "        for x in range(startx, endx, deltax):\n",
    "            if tree_height[(y, x)] > max_height:\n",
    "                is_visible[(y, x)] = True\n",
    "                num_visible += 1\n",
    "                max_height = tree_height[(y, x)]\n",
    "    return num_visible\n",
    "    \n",
    "def vertical_sweep(starty, startx, endy, endx, deltay, deltax):\n",
    "    num_visible = 0 \n",
    "    for x in range(startx, endx, deltax):\n",
    "        max_height = -1\n",
    "        for y in range(starty, endy, deltay):    \n",
    "            if tree_height[(y, x)] > max_height:\n",
    "                is_visible[(y, x)] = True\n",
    "                num_visible += 1\n",
    "                max_height = tree_height[(y, x)]\n",
    "    return num_visible\n",
    "\n",
    "# Horizontal sweep, left to right\n",
    "starty, startx = 0, 0\n",
    "endy, endx = len(lines), len(lines[0])\n",
    "deltay, deltax = 1, 1\n",
    "horizontal_sweep(starty, startx, endy, endx, deltay, deltax)\n",
    "\n",
    "# Horizontal sweep, right to left\n",
    "starty, startx = 0, len(lines[0]) - 1\n",
    "endy, endx = len(lines), -1\n",
    "deltay, deltax = 1, -1\n",
    "horizontal_sweep(starty, startx, endy, endx, deltay, deltax)\n",
    "\n",
    "                \n",
    "# Vertical sweep, top to bottom\n",
    "starty, startx = 0, 0\n",
    "endy, endx = len(lines), len(lines[0])\n",
    "deltay, deltax = 1, 1\n",
    "vertical_sweep(starty, startx, endy, endx, deltay, deltax)\n",
    "    \n",
    "\n",
    "# Vertical sweep, bottom to top\n",
    "starty, startx = len(lines)-1, 0\n",
    "endy, endx = 0, len(lines[0])\n",
    "deltay, deltax = -1, 1\n",
    "vertical_sweep(starty, startx, endy, endx, deltay, deltax)\n",
    "\n",
    "print(len(is_visible.keys()))"
   ]
  },
  {
   "cell_type": "code",
   "execution_count": 86,
   "metadata": {},
   "outputs": [
    {
     "name": "stdout",
     "output_type": "stream",
     "text": [
      "1 1 1 1 1 1 1\n",
      "1 6 1 1 6 3 18\n",
      "1 9 1 9 9 1 81\n",
      "1 22 1 6 22 7 924\n",
      "1 44 1 9 44 16 6336\n",
      "2 62 2 9 13 36 8424\n",
      "8 77 8 11 6 21 11088\n",
      "9 39 9 7 39 6 14742\n",
      "10 37 10 3 37 14 15540\n",
      "12 18 12 11 18 14 33264\n",
      "14 48 14 6 48 50 201600\n",
      "201600\n"
     ]
    },
    {
     "data": {
      "text/plain": [
       "201600"
      ]
     },
     "execution_count": 86,
     "metadata": {},
     "output_type": "execute_result"
    }
   ],
   "source": [
    "def visible_horizontal(y, start_x): \n",
    "    visible_left = 0\n",
    "    visible_right = 0\n",
    "    max_height = tree_height[(y, start_x)]\n",
    "    for x in range(start_x+1, len(lines[0])):\n",
    "        if tree_height[(y, x)] < max_height:\n",
    "            visible_right += 1\n",
    "        else:\n",
    "            visible_right += 1\n",
    "            break\n",
    "\n",
    "    max_height = tree_height[(y, start_x)]\n",
    "    for x in range(start_x-1, -1, -1):\n",
    "        if tree_height[(y, x)] < max_height:\n",
    "            visible_left += 1\n",
    "        else:\n",
    "            visible_left += 1\n",
    "            break\n",
    "    return visible_left, visible_right\n",
    "\n",
    "def visible_vertical(start_y, x):\n",
    "    visible_up, visible_down = 0, 0\n",
    "    max_height = tree_height[(start_y, x)]\n",
    "    for y in range(start_y+1, len(lines)):\n",
    "        if tree_height[(y, x)] < max_height:\n",
    "            visible_down += 1\n",
    "        else:\n",
    "            visible_down += 1\n",
    "            break\n",
    "\n",
    "    max_height = tree_height[(start_y, x)]\n",
    "    for y in range(start_y-1, -1, -1):\n",
    "        if tree_height[(y, x)] < max_height:\n",
    "            visible_up += 1\n",
    "        else:\n",
    "            visible_up += 1\n",
    "            break\n",
    "    return visible_up, visible_down\n",
    "best_scenic_score = 0\n",
    "H,W = len(lines), len(lines[0])\n",
    "for y in range(len(lines)):\n",
    "   for x in range(len(lines[0])):\n",
    "\n",
    "\n",
    "    up, down = visible_vertical(y, x)\n",
    "    left, right = visible_horizontal(y, x)\n",
    "    scenic_score = up * down * left * right\n",
    "    if scenic_score > best_scenic_score:\n",
    "        print(y, x, up, down, left, right, scenic_score)\n",
    "        best_scenic_score = scenic_score\n",
    "print(best_scenic_score)    \n",
    "        \n",
    "\n",
    "best_scenic_score        \n"
   ]
  },
  {
   "cell_type": "code",
   "execution_count": 46,
   "metadata": {},
   "outputs": [
    {
     "data": {
      "text/plain": [
       "32"
      ]
     },
     "execution_count": 46,
     "metadata": {},
     "output_type": "execute_result"
    }
   ],
   "source": [
    "best_scenic_score"
   ]
  },
  {
   "cell_type": "code",
   "execution_count": 64,
   "metadata": {},
   "outputs": [
    {
     "name": "stdout",
     "output_type": "stream",
     "text": [
      "(0, 0) 3\n",
      "(0, 1) 0\n",
      "(0, 2) 3\n",
      "(0, 3) 7\n",
      "(0, 4) 3\n",
      "(1, 0) 2\n",
      "(1, 1) 5\n",
      "(1, 2) 5\n",
      "(1, 3) 1\n",
      "(1, 4) 2\n",
      "(2, 0) 6\n",
      "(2, 1) 5\n",
      "(2, 2) 3\n",
      "(2, 3) 3\n",
      "(2, 4) 2\n",
      "(3, 0) 3\n",
      "(3, 1) 3\n",
      "(3, 2) 5\n",
      "(3, 3) 4\n",
      "(3, 4) 9\n",
      "(4, 0) 3\n",
      "(4, 1) 5\n",
      "(4, 2) 3\n",
      "(4, 3) 9\n",
      "(4, 4) 0\n"
     ]
    }
   ],
   "source": [
    "for key in sorted(tree_height): \n",
    "    print(key, tree_height[key])"
   ]
  },
  {
   "cell_type": "code",
   "execution_count": null,
   "metadata": {},
   "outputs": [],
   "source": []
  },
  {
   "cell_type": "code",
   "execution_count": null,
   "metadata": {},
   "outputs": [],
   "source": []
  }
 ],
 "metadata": {
  "kernelspec": {
   "display_name": "Python 3.10.8 ('py_310')",
   "language": "python",
   "name": "python3"
  },
  "language_info": {
   "codemirror_mode": {
    "name": "ipython",
    "version": 3
   },
   "file_extension": ".py",
   "mimetype": "text/x-python",
   "name": "python",
   "nbconvert_exporter": "python",
   "pygments_lexer": "ipython3",
   "version": "3.10.8"
  },
  "orig_nbformat": 4,
  "vscode": {
   "interpreter": {
    "hash": "da71e0930131d5511609c028eb08f8f6054bf56d7991754172f4b09ef82dda00"
   }
  }
 },
 "nbformat": 4,
 "nbformat_minor": 2
}
