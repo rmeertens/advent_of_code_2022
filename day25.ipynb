{
 "cells": [
  {
   "cell_type": "code",
   "execution_count": 116,
   "metadata": {},
   "outputs": [
    {
     "name": "stdout",
     "output_type": "stream",
     "text": [
      "36671616971741\n",
      "20=02=120-=-2110-0=1\n"
     ]
    }
   ],
   "source": [
    "lines = open('inputs/day25.txt').readlines()\n",
    "lines = [line.strip() for line in lines]\n",
    "\n",
    "snafu_values = {\n",
    "            \"2\": 2,\n",
    "            \"1\": 1,\n",
    "            \"0\": 0,\n",
    "            \"-\": -1,\n",
    "            \"=\": -2,\n",
    "        }\n",
    "        \n",
    "def snafu_to_int(snafu):\n",
    "    total = 0\n",
    "    for i, c in enumerate(snafu):\n",
    "        place = 5**(len(snafu)-i-1)\n",
    "        total += place * snafu_values[c]\n",
    "    return total\n",
    "\n",
    "def remove_leading_zeros(snafu):\n",
    "    for i, c in enumerate(snafu):\n",
    "        if c != \"0\":\n",
    "            return snafu[i:]\n",
    "    return \"0\"\n",
    "\n",
    "def int_to_snafu(remaining):\n",
    "    snafunum = \"\"\n",
    "    for power in range(25, 0, -1):\n",
    "        max_add = \"2\"* (power-1)\n",
    "        max_remove = \"=\"* (power-1)\n",
    "        zeros = \"0\" * (power-1)\n",
    "        for char in [\"2\", \"1\", \"0\", \"-\", \"=\"]:\n",
    "            trying = char + zeros\n",
    "            if snafu_to_int(trying) + snafu_to_int(max_remove) <= remaining <= snafu_to_int(trying) + snafu_to_int(max_add):\n",
    "                snafunum += char\n",
    "                remaining -= snafu_to_int(trying)\n",
    "                break\n",
    "    return remove_leading_zeros(snafunum)\n",
    "\n",
    "total = 0\n",
    "for line in lines:\n",
    "    total += snafu_to_int(line)\n",
    "print(total)\n",
    "print(int_to_snafu(total))"
   ]
  },
  {
   "cell_type": "code",
   "execution_count": 132,
   "metadata": {},
   "outputs": [
    {
     "name": "stdout",
     "output_type": "stream",
     "text": [
      "20=02=120-=-2110-0=1\n"
     ]
    }
   ],
   "source": [
    "lines = open('inputs/day25.txt').readlines()\n",
    "lines = [line.strip() for line in lines]\n",
    "\n",
    "def remove_leading_zeros(snafu):\n",
    "    for i, c in enumerate(snafu):\n",
    "        if c != \"0\":\n",
    "            return snafu[i:]\n",
    "    return \"0\"\n",
    "\n",
    "snaf_to_int = {\n",
    "    \"2\": 2,\n",
    "    \"1\": 1,\n",
    "    \"0\": 0,\n",
    "    \"-\": -1,\n",
    "    \"=\": -2,\n",
    "}\n",
    "\n",
    "int_to_snaf = {\n",
    "    -5: (\"0\", \"-\"),\n",
    "    -4: (\"1\", \"-\"),\n",
    "    -3: (\"2\", \"-\"),\n",
    "    -2: (\"=\", \"0\"),\n",
    "    -1: (\"-\", \"0\"),\n",
    "    0: (\"0\", \"0\"),\n",
    "    1: (\"1\", \"0\"),\n",
    "    2: (\"2\", \"0\"),\n",
    "    3: (\"=\", \"1\"),\n",
    "    4: (\"-\", \"1\"),\n",
    "    5: (\"0\", \"1\"),\n",
    "}\n",
    "\n",
    "def add_snafu(a, b):\n",
    "    a = a.zfill(25)\n",
    "    b = b.zfill(25)\n",
    "    carry = \"0\"\n",
    "    final_result = \"\"\n",
    "\n",
    "    for x, y in zip(a[::-1], b[::-1]):\n",
    "        int_x = snaf_to_int[x]\n",
    "        int_y = snaf_to_int[y]\n",
    "        int_carry = snaf_to_int[carry]\n",
    "\n",
    "        int_result = int_x + int_y + int_carry\n",
    "\n",
    "        result, carry = int_to_snaf[int_result]\n",
    "        final_result += result\n",
    "    final_result += int_to_snaf[snaf_to_int[carry]][0]\n",
    "\n",
    "    return remove_leading_zeros(final_result[::-1])\n",
    "\n",
    "res = \"0\"\n",
    "for line in lines: \n",
    "    res = add_snafu(res, line)\n",
    "print(res)"
   ]
  },
  {
   "cell_type": "code",
   "execution_count": 129,
   "metadata": {},
   "outputs": [
    {
     "data": {
      "text/plain": [
       "'00000020=02=120-=-2110-0=1'"
      ]
     },
     "execution_count": 129,
     "metadata": {},
     "output_type": "execute_result"
    }
   ],
   "source": [
    "res"
   ]
  },
  {
   "cell_type": "code",
   "execution_count": null,
   "metadata": {},
   "outputs": [],
   "source": []
  }
 ],
 "metadata": {
  "kernelspec": {
   "display_name": "py_310",
   "language": "python",
   "name": "python3"
  },
  "language_info": {
   "codemirror_mode": {
    "name": "ipython",
    "version": 3
   },
   "file_extension": ".py",
   "mimetype": "text/x-python",
   "name": "python",
   "nbconvert_exporter": "python",
   "pygments_lexer": "ipython3",
   "version": "3.10.8"
  },
  "orig_nbformat": 4,
  "vscode": {
   "interpreter": {
    "hash": "da71e0930131d5511609c028eb08f8f6054bf56d7991754172f4b09ef82dda00"
   }
  }
 },
 "nbformat": 4,
 "nbformat_minor": 2
}
