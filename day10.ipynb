{
 "cells": [
  {
   "cell_type": "code",
   "execution_count": 44,
   "metadata": {},
   "outputs": [],
   "source": [
    "from collections import defaultdict\n",
    "\n",
    "lines = open('inputs/day10.txt').readlines()\n",
    "lines = [line.strip() for line in lines]\n",
    "lines += [\"noop\"]*4\n",
    "register_history = dict()\n",
    "register_history[0] = 1\n",
    "register_value = 1\n",
    "cycle = 1\n",
    "for instruction in lines:\n",
    "    #print(cycle, register_value, instruction)\n",
    "    if instruction == \"noop\":\n",
    "        register_history[cycle] = register_value\n",
    "        cycle += 1\n",
    "    else:\n",
    "        _, value = instruction.split(\" \")\n",
    "        register_history[cycle] = register_value\n",
    "        register_history[cycle+1] = register_value\n",
    "        value = int(value)\n",
    "        register_value += value\n",
    "        cycle += 2\n",
    "    "
   ]
  },
  {
   "cell_type": "code",
   "execution_count": 45,
   "metadata": {},
   "outputs": [
    {
     "data": {
      "text/plain": [
       "14420"
      ]
     },
     "execution_count": 45,
     "metadata": {},
     "output_type": "execute_result"
    }
   ],
   "source": [
    "sum_strengths = 0\n",
    "for it in [20, 60, 100, 140, 180, 220]: \n",
    "    strength = it * register_history[it]\n",
    "    sum_strengths += strength\n",
    "sum_strengths"
   ]
  },
  {
   "cell_type": "code",
   "execution_count": 47,
   "metadata": {},
   "outputs": [
    {
     "name": "stdout",
     "output_type": "stream",
     "text": [
      "###   ##  #    ###  ###  ####  ##  #  # \n",
      "#  # #  # #    #  # #  #    # #  # #  # \n",
      "#  # #    #    #  # ###    #  #  # #  # \n",
      "###  # ## #    ###  #  #  #   #### #  # \n",
      "# #  #  # #    # #  #  # #    #  # #  # \n",
      "#  #  ### #### #  # ###  #### #  #  ##  \n"
     ]
    }
   ],
   "source": [
    "crt_height = 6\n",
    "crt_width = 40\n",
    "for it in range(crt_height * crt_width):\n",
    "    x_value = it % crt_width\n",
    "    #print(x_value, register_history[it+1])\n",
    "    sprite_pos = register_history[it+1]\n",
    "    if x_value-1 <= sprite_pos <= x_value+1:\n",
    "        print(\"#\", end=\"\")\n",
    "    else:\n",
    "        print(\" \", end=\"\")\n",
    "    if x_value == crt_width-1:\n",
    "        print(\"\")"
   ]
  },
  {
   "cell_type": "code",
   "execution_count": null,
   "metadata": {},
   "outputs": [],
   "source": [
    "\n",
    "def signal_strength(lines, iteration): \n",
    "    temp = lines[:iteration+2]        \n",
    "    x_value = 1\n",
    "    for i, line in enumerate(temp): \n",
    "        if line.startswith(\"addx\"):\n",
    "            _, value = line.split(\" \")\n",
    "            value = int(value)\n",
    "            print(i, value)\n",
    "            x_value += value\n",
    "    return x_value\n",
    "signal_strength(lines, 20)"
   ]
  }
 ],
 "metadata": {
  "kernelspec": {
   "display_name": "Python 3.10.8 ('py_310')",
   "language": "python",
   "name": "python3"
  },
  "language_info": {
   "codemirror_mode": {
    "name": "ipython",
    "version": 3
   },
   "file_extension": ".py",
   "mimetype": "text/x-python",
   "name": "python",
   "nbconvert_exporter": "python",
   "pygments_lexer": "ipython3",
   "version": "3.10.8"
  },
  "orig_nbformat": 4,
  "vscode": {
   "interpreter": {
    "hash": "da71e0930131d5511609c028eb08f8f6054bf56d7991754172f4b09ef82dda00"
   }
  }
 },
 "nbformat": 4,
 "nbformat_minor": 2
}
