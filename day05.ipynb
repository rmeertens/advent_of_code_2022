{
 "cells": [
  {
   "cell_type": "code",
   "execution_count": 37,
   "metadata": {},
   "outputs": [
    {
     "name": "stdout",
     "output_type": "stream",
     "text": [
      "1 R\n",
      "2 N\n",
      "3 R\n",
      "4 G\n",
      "5 D\n",
      "6 N\n",
      "7 F\n",
      "8 Q\n",
      "9 G\n",
      "RNRGDNFQG\n"
     ]
    }
   ],
   "source": [
    "from collections import defaultdict\n",
    "import re\n",
    "\n",
    "lines = open('inputs/day05.txt').read()\n",
    "box_config, commands = lines.split('\\n\\n')\n",
    "box_config = box_config.split('\\n')[::-1]\n",
    "box_config = box_config[1:]\n",
    "\n",
    "boxes = defaultdict(list)\n",
    "\n",
    "def chunker(seq, size):\n",
    "    return [seq[pos:pos + size] for pos in range(0, len(seq), size)]\n",
    "\n",
    "for line in box_config: \n",
    "    chunks = chunker(line, 4)\n",
    "    for i, letter in enumerate(chunks):\n",
    "        if letter[1] != ' ':\n",
    "            boxes[i+1].append(letter[1])\n",
    "\n",
    "part2 = True\n",
    "for line in commands.split('\\n'): \n",
    "    if not line: \n",
    "        continue\n",
    "    numbers = re.findall(r'\\d+', line)\n",
    "\n",
    "    amount, source, goal = [int(i) for i in numbers]\n",
    "    if part2:\n",
    "        boxes[goal].extend(boxes[source][-amount:])\n",
    "        boxes[source] = boxes[source][:-amount]\n",
    "    else:\n",
    "        # move the amount of boxes from source to goal\n",
    "        for _ in range(amount):\n",
    "            boxes[goal].append(boxes[source][-1])\n",
    "            boxes[source] = boxes[source][:-1]      \n",
    "string = ''\n",
    "for i in range(1,10):\n",
    "    string += boxes[i][-1]\n",
    "print(string)        "
   ]
  },
  {
   "cell_type": "code",
   "execution_count": 34,
   "metadata": {},
   "outputs": [
    {
     "name": "stdout",
     "output_type": "stream",
     "text": [
      "1 R\n",
      "2 N\n",
      "3 R\n",
      "4 G\n",
      "5 D\n",
      "6 N\n",
      "7 F\n",
      "8 Q\n",
      "9 G\n"
     ]
    }
   ],
   "source": [
    "\n"
   ]
  },
  {
   "cell_type": "code",
   "execution_count": 35,
   "metadata": {},
   "outputs": [
    {
     "data": {
      "text/plain": [
       "'RNRGDNFQG'"
      ]
     },
     "execution_count": 35,
     "metadata": {},
     "output_type": "execute_result"
    }
   ],
   "source": [
    "string"
   ]
  },
  {
   "cell_type": "code",
   "execution_count": 40,
   "metadata": {},
   "outputs": [
    {
     "data": {
      "text/plain": [
       "True"
      ]
     },
     "execution_count": 40,
     "metadata": {},
     "output_type": "execute_result"
    }
   ],
   "source": []
  },
  {
   "cell_type": "code",
   "execution_count": null,
   "metadata": {},
   "outputs": [],
   "source": []
  }
 ],
 "metadata": {
  "kernelspec": {
   "display_name": "Python 3.10.8 ('py_310')",
   "language": "python",
   "name": "python3"
  },
  "language_info": {
   "codemirror_mode": {
    "name": "ipython",
    "version": 3
   },
   "file_extension": ".py",
   "mimetype": "text/x-python",
   "name": "python",
   "nbconvert_exporter": "python",
   "pygments_lexer": "ipython3",
   "version": "3.10.8"
  },
  "orig_nbformat": 4,
  "vscode": {
   "interpreter": {
    "hash": "da71e0930131d5511609c028eb08f8f6054bf56d7991754172f4b09ef82dda00"
   }
  }
 },
 "nbformat": 4,
 "nbformat_minor": 2
}
