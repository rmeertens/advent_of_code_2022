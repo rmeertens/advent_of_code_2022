{
 "cells": [
  {
   "cell_type": "code",
   "execution_count": 62,
   "metadata": {},
   "outputs": [
    {
     "name": "stdout",
     "output_type": "stream",
     "text": [
      "0 0\n",
      "1 1\n",
      "2 2\n",
      "3 3\n",
      "4\n"
     ]
    }
   ],
   "source": [
    "from collections import defaultdict\n",
    "\n",
    "lines = open('inputs/day09_test.txt').readlines()\n",
    "lines = [line.strip() for line in lines]\n",
    "\n",
    "# Coordinates are X,Y (col, row)\n",
    "visited_positions = set()\n",
    "num_knots = 2\n",
    "body_positions = list()\n",
    "for i in range(num_knots):\n",
    "    body_positions.append([0,0])\n",
    "\n",
    "directions = {'R': [1,0], 'L': [-1,0], 'U': [0,1], 'D': [0,-1]}\n",
    "rolands_snake_history = list()\n",
    "for line in lines:\n",
    "    direction = line[0]\n",
    "    distance = int(line[1:])\n",
    "\n",
    "    for i in range(distance):\n",
    "        # Move the head\n",
    "        body_positions[0][0] += directions[direction][0]\n",
    "        body_positions[0][1] += directions[direction][1]\n",
    "\n",
    "        # Move the tails\n",
    "        for j in range(1, num_knots):\n",
    "            dx, dy = body_positions[j][0] - body_positions[j-1][0], body_positions[j][1] - body_positions[j-1][1]\n",
    "            \n",
    "            # If the tail is further than 1 away from the head, move it closer\n",
    "            if dx >= 2 or dx <= -2 or dy >= 2 or dy <=-2:\n",
    "                # Clip the movement to maximum of 1 in each direction            \n",
    "                dx = max(-1, min(1, dx))\n",
    "                dy = max(-1, min(1, dy))\n",
    "\n",
    "                body_positions[j][0] -= dx\n",
    "                body_positions[j][1] -= dy\n",
    "        \n",
    "        \n",
    "        if (body_positions[-1][0], body_positions[-1][1]) not in visited_positions:\n",
    "            print(body_positions[-1][0], body_positions[-1][1])\n",
    "            visited_positions.add((body_positions[-1][0], body_positions[-1][1]))\n",
    "        \n",
    "        rolands_snake_history.append([tuple(a) for a in body_positions])\n",
    "        \n",
    "print(len(visited_positions))\n"
   ]
  },
  {
   "cell_type": "code",
   "execution_count": 68,
   "metadata": {},
   "outputs": [
    {
     "name": "stdout",
     "output_type": "stream",
     "text": [
      "(0, 0)\n",
      "[(-1, 0), (1, 0), (0, 1), (0, -1), (-1, 1), (1, 1), (-1, -1), (1, -1)] 5 [1.0, 1.0, 1.0, 1.0, 1.4142135623730951, 1.4142135623730951, 1.4142135623730951, 1.4142135623730951]\n",
      "(1, 1)\n",
      "[(0, 1), (2, 1), (1, 2), (1, 0), (0, 2), (2, 2), (0, 0), (2, 0)] 5 [1.0, 1.0, 1.0, 1.0, 1.4142135623730951, 1.4142135623730951, 1.4142135623730951, 1.4142135623730951]\n",
      "(2, 2)\n",
      "[(1, 2), (3, 2), (2, 3), (2, 1), (1, 3), (3, 3), (1, 1), (3, 1)] 5 [1.0, 1.0, 1.0, 1.0, 1.4142135623730951, 1.4142135623730951, 1.4142135623730951, 1.4142135623730951]\n",
      "(3, 3)\n",
      "The tail have visited 4 spots.\n"
     ]
    }
   ],
   "source": [
    "import numpy as np\n",
    "from scipy.spatial import distance\n",
    "\n",
    "with open(\"inputs/day09_test.txt\", \"r\") as f:\n",
    "    lines = f.readlines()\n",
    "    lines = [l.strip().split(' ') for l in lines]\n",
    "    lines = [[i, int(j)] for i, j in lines]\n",
    "\n",
    "# changes = {\n",
    "#     'L': lambda x: (x[0]-1, x[1]), \n",
    "#     'R': lambda x: (x[0]+1, x[1]),\n",
    "#     'U': lambda x: (x[0], x[1]+1),\n",
    "#     'D': lambda x: (x[0], x[1]-1)\n",
    "# }\n",
    "changes = {\n",
    "    'L': lambda x: (x[0]-1, x[1]), \n",
    "    'R': lambda x: (x[0]+1, x[1]),\n",
    "    'U': lambda x: (x[0], x[1]+1),\n",
    "    'D': lambda x: (x[0], x[1]-1),\n",
    "    'UL': lambda x: (x[0]-1, x[1]+1),\n",
    "    'UR': lambda x: (x[0]+1, x[1]+1),\n",
    "    'DL': lambda x: (x[0]-1, x[1]-1),\n",
    "    'DR': lambda x: (x[0]+1, x[1]-1)\n",
    "}\n",
    "\n",
    "\n",
    "rope = []\n",
    "for i in range(num_knots): \n",
    "    rope.append((0,0))\n",
    "\n",
    "    \n",
    "tail_visits = []\n",
    "saras_snake_history = []\n",
    "\n",
    "previous_direction = None\n",
    "for line in lines:\n",
    "    direction = line[0]\n",
    "    steps = line[1]\n",
    "    for step in range(steps):\n",
    "        # Move the head\n",
    "        rope[0] = changes[direction](rope[0])\n",
    "\n",
    "        # Move the tails\n",
    "        for i in range(1, len(rope)):\n",
    "            # If the tail is further than 1 away from the head, move it closer\n",
    "            if distance.euclidean(rope[i-1], rope[i]) > 1.5:\n",
    "                possible_new_place = [v(rope[i]) for k, v in changes.items()]\n",
    "                print(possible_new_place, np.argmin([distance.euclidean(rope[i-1], t) for t in possible_new_place]), [distance.euclidean(rope[i], t) for t in possible_new_place])\n",
    "                rope[i] = possible_new_place[np.argmin([distance.euclidean(rope[i-1], t) for t in possible_new_place])]\n",
    "        \n",
    "        if rope[-1] not in tail_visits:\n",
    "            print(rope[-1])\n",
    "            tail_visits.append(rope[-1])\n",
    "        saras_snake_history.append(rope.copy())\n",
    "print(f\"The tail have visited {len(tail_visits)} spots.\")"
   ]
  },
  {
   "cell_type": "code",
   "execution_count": 69,
   "metadata": {},
   "outputs": [
    {
     "name": "stdout",
     "output_type": "stream",
     "text": [
      "0 True [(0, 1), (0, 0)]\n",
      "1 True [(1, 1), (0, 0)]\n",
      "2 True [(1, 2), (1, 1)]\n",
      "3 True [(2, 2), (1, 1)]\n",
      "4 True [(2, 3), (2, 2)]\n",
      "5 True [(3, 3), (2, 2)]\n",
      "6 True [(3, 4), (3, 3)]\n",
      "7 True [(4, 4), (3, 3)]\n"
     ]
    }
   ],
   "source": [
    "for timestep in range(len(saras_snake_history)):\n",
    "    print(timestep, saras_snake_history[timestep] == rolands_snake_history[timestep], rolands_snake_history[timestep])\n",
    "    if saras_snake_history[timestep] != rolands_snake_history[timestep]:\n",
    "        print(timestep, saras_snake_history[timestep])\n",
    "        break"
   ]
  },
  {
   "cell_type": "markdown",
   "metadata": {},
   "source": []
  },
  {
   "cell_type": "code",
   "execution_count": 65,
   "metadata": {},
   "outputs": [
    {
     "data": {
      "text/plain": [
       "{(0, 0), (1, 1), (2, 2), (3, 3)}"
      ]
     },
     "execution_count": 65,
     "metadata": {},
     "output_type": "execute_result"
    }
   ],
   "source": [
    "visited_positions"
   ]
  },
  {
   "cell_type": "code",
   "execution_count": null,
   "metadata": {},
   "outputs": [],
   "source": []
  }
 ],
 "metadata": {
  "kernelspec": {
   "display_name": "Python 3.10.8 ('py_310')",
   "language": "python",
   "name": "python3"
  },
  "language_info": {
   "codemirror_mode": {
    "name": "ipython",
    "version": 3
   },
   "file_extension": ".py",
   "mimetype": "text/x-python",
   "name": "python",
   "nbconvert_exporter": "python",
   "pygments_lexer": "ipython3",
   "version": "3.10.8"
  },
  "orig_nbformat": 4,
  "vscode": {
   "interpreter": {
    "hash": "da71e0930131d5511609c028eb08f8f6054bf56d7991754172f4b09ef82dda00"
   }
  }
 },
 "nbformat": 4,
 "nbformat_minor": 2
}
