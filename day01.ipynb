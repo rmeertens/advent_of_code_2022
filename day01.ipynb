{
 "cells": [
  {
   "cell_type": "code",
   "execution_count": 2,
   "metadata": {},
   "outputs": [
    {
     "name": "stdout",
     "output_type": "stream",
     "text": [
      "part 1 69883\n",
      "part 2 207576\n"
     ]
    }
   ],
   "source": [
    "# read the file day01.txt\n",
    "lines = open(\"inputs/day01.txt\").readlines()\n",
    "\n",
    "# convert the lines to integers and create a collection of elves\n",
    "elves = list()\n",
    "elf = list()\n",
    "for line in lines: \n",
    "    line = line.strip()\n",
    "    if not line: \n",
    "        elves.append(elf)\n",
    "        elf = list()\n",
    "    else:\n",
    "        elf.append(int(line))\n",
    "elves.append(elf)\n",
    "\n",
    "# Sort the elves based on the calories they are carrying\n",
    "elves.sort(key=lambda x: sum(x), reverse=True)\n",
    "\n",
    "# See how much calories the elf with the most calories is carrying\n",
    "print('part 1', sum(elves[0]))\n",
    "\n",
    "# See how many calories the top N elves are carrying in total\n",
    "top_n = 3\n",
    "elves = elves[:top_n]\n",
    "print('part 2', sum([sum(x) for x in elves]))"
   ]
  },
  {
   "cell_type": "code",
   "execution_count": 24,
   "metadata": {},
   "outputs": [
    {
     "name": "stdout",
     "output_type": "stream",
     "text": [
      "69883 207576\n"
     ]
    }
   ],
   "source": [
    "lines = open(\"inputs/input_day01.txt\").read()\n",
    "individual_elves = lines.split(\"\\n\\n\")\n",
    "def sum_food(elf):\n",
    "    s = sum([int(x) for x in elf.split(\"\\n\") if x])\n",
    "    return s\n",
    "\n",
    "a = sorted(map(sum_food, individual_elves), reverse=True)\n",
    "print(a[0], sum(a[:3]))\n"
   ]
  },
  {
   "cell_type": "code",
   "execution_count": null,
   "metadata": {},
   "outputs": [],
   "source": []
  },
  {
   "cell_type": "code",
   "execution_count": null,
   "metadata": {},
   "outputs": [],
   "source": []
  },
  {
   "cell_type": "code",
   "execution_count": null,
   "metadata": {},
   "outputs": [],
   "source": []
  },
  {
   "cell_type": "code",
   "execution_count": null,
   "metadata": {},
   "outputs": [],
   "source": []
  }
 ],
 "metadata": {
  "kernelspec": {
   "display_name": "Python 3.10.8 ('py_310')",
   "language": "python",
   "name": "python3"
  },
  "language_info": {
   "codemirror_mode": {
    "name": "ipython",
    "version": 3
   },
   "file_extension": ".py",
   "mimetype": "text/x-python",
   "name": "python",
   "nbconvert_exporter": "python",
   "pygments_lexer": "ipython3",
   "version": "3.10.8"
  },
  "orig_nbformat": 4,
  "vscode": {
   "interpreter": {
    "hash": "da71e0930131d5511609c028eb08f8f6054bf56d7991754172f4b09ef82dda00"
   }
  }
 },
 "nbformat": 4,
 "nbformat_minor": 2
}
