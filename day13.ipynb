{
 "cells": [
  {
   "cell_type": "code",
   "execution_count": 63,
   "metadata": {},
   "outputs": [
    {
     "name": "stdout",
     "output_type": "stream",
     "text": [
      "Part 1 6076\n",
      "part 2 24805\n"
     ]
    }
   ],
   "source": [
    "# import deepcopy \n",
    "from copy import deepcopy\n",
    "import functools\n",
    "\n",
    "lines = open('inputs/day13.txt').read()\n",
    "pairs = lines.split('\\n\\n')\n",
    "\n",
    "def is_in_order(left, right):\n",
    "    \"\"\"\n",
    "       Returns a tuple of (can_make_decision, decision)\n",
    "    \"\"\"\n",
    "    while left and right:\n",
    "        left_val = left.pop(0)\n",
    "        right_val = right.pop(0)\n",
    "        \n",
    "\n",
    "        # If both values are integers,\n",
    "        type_left = type(left_val)\n",
    "        type_right = type(right_val)\n",
    "        if type_left == int and type_right == list:\n",
    "                left_val = [left_val]\n",
    "                type_left = type(left_val)\n",
    "        if type_left == list and type_right == int:\n",
    "                right_val = [right_val]\n",
    "                type_right = type(right_val)\n",
    "\n",
    "        if type_left == int and type_right == int:\n",
    "            if left_val < right_val:\n",
    "                return (True, True)\n",
    "            elif left_val > right_val:\n",
    "                return (True, False)\n",
    "            else:\n",
    "                continue\n",
    "        # If both values are lists,\n",
    "        elif type_left == list and type_right == list:\n",
    "            can_make_decision, decision = is_in_order(left_val, right_val)\n",
    "            if can_make_decision:\n",
    "                return (True, decision)\n",
    "\n",
    "    # If the left list runs out of items first, the inputs are in the right order. \n",
    "    # If the right list runs out of items first, the inputs are not in the right order. \n",
    "    # If the lists are the same length and no comparison makes a decision about the order, continue checking the next part of the input.\n",
    "    if len(left) == 0 and len(right) > 0:\n",
    "        return (True, True)\n",
    "    elif len(left) > 0 and len(right) == 0:\n",
    "        return (True, False)\n",
    "\n",
    "    return (False, None)\n",
    "\n",
    "sum_in_order = 0\n",
    "for index, pair in enumerate(pairs, start=1): \n",
    "    left, right = pair.strip().split('\\n')\n",
    "    left = eval(left)\n",
    "    right = eval(right)\n",
    "    \n",
    "    can_make_decision, decision = is_in_order(left.copy(), right.copy())\n",
    "    # print('can_make_decision', can_make_decision, 'decision', decision)\n",
    "    if not can_make_decision:\n",
    "        raise ValueError(\"Could not make a decision about the order of the inputs\")\n",
    "    if decision:\n",
    "        sum_in_order += index\n",
    "print(\"Part 1\", sum_in_order)\n",
    "\n",
    "all_inputs = []\n",
    "# Enter the dividing packets!\n",
    "all_inputs.append([[2]])\n",
    "all_inputs.append([[6]])\n",
    "for pair in pairs:\n",
    "    left, right = pair.strip().split('\\n')\n",
    "    left = eval(left)\n",
    "    right = eval(right)\n",
    "    all_inputs.append(left.copy())\n",
    "    all_inputs.append(right.copy())\n",
    "  \n",
    "def mycmp(a, b):\n",
    "    can_make_decision, in_ord = is_in_order(deepcopy(a), deepcopy(b))\n",
    "    if in_ord:\n",
    "        return -1\n",
    "    else:\n",
    "        return 1\n",
    "\n",
    "all_inputs.sort(key=functools.cmp_to_key(mycmp))\n",
    "\n",
    "div_start = 0\n",
    "div_end = 0\n",
    "for index, input in enumerate(all_inputs, start=1):\n",
    "    if str(input) == '[[2]]':\n",
    "        div_start = index\n",
    "    if str(input) == '[[6]]':\n",
    "        div_end = index\n",
    "print(\"part 2\", div_end * div_start)"
   ]
  },
  {
   "cell_type": "code",
   "execution_count": 59,
   "metadata": {},
   "outputs": [
    {
     "data": {
      "text/plain": [
       "[[],\n",
       " [[]],\n",
       " [[[]]],\n",
       " [1, 1, 3, 1, 1],\n",
       " [1, 1, 5, 1, 1],\n",
       " [[1], [2, 3, 4]],\n",
       " [1, [2, [3, [4, [5, 6, 0]]]], 8, 9],\n",
       " [1, [2, [3, [4, [5, 6, 7]]]], 8, 9],\n",
       " [[1], 4],\n",
       " [[2]],\n",
       " [3],\n",
       " [[4, 4], 4, 4],\n",
       " [[4, 4], 4, 4, 4],\n",
       " [[6]],\n",
       " [7, 7, 7],\n",
       " [7, 7, 7, 7],\n",
       " [[8, 7, 6]],\n",
       " [9]]"
      ]
     },
     "execution_count": 59,
     "metadata": {},
     "output_type": "execute_result"
    }
   ],
   "source": [
    "all_inputs"
   ]
  },
  {
   "cell_type": "code",
   "execution_count": null,
   "metadata": {},
   "outputs": [],
   "source": []
  }
 ],
 "metadata": {
  "kernelspec": {
   "display_name": "Python 3.10.8 ('py_310')",
   "language": "python",
   "name": "python3"
  },
  "language_info": {
   "codemirror_mode": {
    "name": "ipython",
    "version": 3
   },
   "file_extension": ".py",
   "mimetype": "text/x-python",
   "name": "python",
   "nbconvert_exporter": "python",
   "pygments_lexer": "ipython3",
   "version": "3.10.8"
  },
  "orig_nbformat": 4,
  "vscode": {
   "interpreter": {
    "hash": "da71e0930131d5511609c028eb08f8f6054bf56d7991754172f4b09ef82dda00"
   }
  }
 },
 "nbformat": 4,
 "nbformat_minor": 2
}
