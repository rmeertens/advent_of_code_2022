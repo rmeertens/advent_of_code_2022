{
 "cells": [
  {
   "cell_type": "code",
   "execution_count": 5,
   "metadata": {},
   "outputs": [
    {
     "name": "stdout",
     "output_type": "stream",
     "text": [
      "part 1 1243729\n",
      "part 2 4443914\n"
     ]
    }
   ],
   "source": [
    "from collections import defaultdict\n",
    "\n",
    "lines = open('inputs/day07.txt').readlines()\n",
    "lines = [line.strip() for line in lines]\n",
    "\n",
    "computer_layout = {\n",
    "    '': dict()\n",
    "    }\n",
    "current_directory = '/'\n",
    "all_files = dict()\n",
    "for line in lines[1:]:\n",
    "    if line.startswith('$ ls'):\n",
    "        # ignore the lines with ls\n",
    "        continue\n",
    "    elif line.startswith('$ cd'):\n",
    "        # update folder if starts with cd\n",
    "        new_path = line.split(' ')[-1]\n",
    "        if new_path == '..':\n",
    "            folders = current_directory.split('/')\n",
    "            to_keep = [f for f in folders if len(f) > 0][:-1]\n",
    "            \n",
    "            if len(to_keep) == 0:\n",
    "                current_directory = '/'\n",
    "            else:\n",
    "                current_directory = '/' + '/'.join(to_keep) + '/'\n",
    "        else:\n",
    "            current_directory = current_directory + new_path + '/'\n",
    "        \n",
    "    else:\n",
    "        if not line.startswith('dir'): \n",
    "            # If the line is a file, add the size and name to the current directory\n",
    "            filesize, filename = line.split(' ')[0], line.split(' ')[-1]\n",
    "            all_files[current_directory+filename] = int(filesize)\n",
    "\n",
    "\n",
    "# Calculate the size of each folder\n",
    "directories = defaultdict(int)\n",
    "for file in all_files: \n",
    "    subfolders = file.split('/')[:-1]\n",
    "    # Go from the root folder to all child folders. \n",
    "    for i in range(len(subfolders)): \n",
    "        folder = '/'.join(subfolders[:i+1]) + '/'\n",
    "        directories[folder] += all_files[file]\n",
    "\n",
    "\n",
    "total_size = 70000000\n",
    "needed = 30000000\n",
    "unused = total_size - directories['/']\n",
    "min_needed = needed - unused\n",
    "min_found = directories['/']\n",
    "\n",
    "sum_small = 0\n",
    "for key in directories: \n",
    "    if directories[key] <= 100000:\n",
    "        sum_small += directories[key]\n",
    "    if directories[key] >= min_needed:\n",
    "        min_found = min(min_found, directories[key])        \n",
    "print('part 1', sum_small)\n",
    "print('part 2', min_found)        "
   ]
  }
 ],
 "metadata": {
  "kernelspec": {
   "display_name": "Python 3.10.8 ('py_310')",
   "language": "python",
   "name": "python3"
  },
  "language_info": {
   "codemirror_mode": {
    "name": "ipython",
    "version": 3
   },
   "file_extension": ".py",
   "mimetype": "text/x-python",
   "name": "python",
   "nbconvert_exporter": "python",
   "pygments_lexer": "ipython3",
   "version": "3.10.8"
  },
  "orig_nbformat": 4,
  "vscode": {
   "interpreter": {
    "hash": "da71e0930131d5511609c028eb08f8f6054bf56d7991754172f4b09ef82dda00"
   }
  }
 },
 "nbformat": 4,
 "nbformat_minor": 2
}
