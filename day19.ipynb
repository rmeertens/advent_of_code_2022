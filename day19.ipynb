{
 "cells": [
  {
   "cell_type": "code",
   "execution_count": 33,
   "metadata": {},
   "outputs": [
    {
     "name": "stdout",
     "output_type": "stream",
     "text": [
      "Blueprint 1: 7 geodes mined\n",
      "Blueprint 2: 2 geodes mined\n",
      "Blueprint 3: 0 geodes mined\n",
      "Blueprint 4: 3 geodes mined\n",
      "Blueprint 5: 8 geodes mined\n",
      "Blueprint 6: 9 geodes mined\n",
      "Blueprint 7: 2 geodes mined\n",
      "Blueprint 8: 5 geodes mined\n",
      "Blueprint 9: 12 geodes mined\n",
      "Blueprint 10: 0 geodes mined\n",
      "Blueprint 11: 0 geodes mined\n",
      "Blueprint 12: 2 geodes mined\n",
      "Blueprint 13: 1 geodes mined\n",
      "Blueprint 14: 3 geodes mined\n",
      "Blueprint 15: 1 geodes mined\n",
      "Blueprint 16: 1 geodes mined\n",
      "Blueprint 17: 4 geodes mined\n",
      "Blueprint 18: 2 geodes mined\n",
      "Blueprint 19: 1 geodes mined\n",
      "Blueprint 20: 1 geodes mined\n",
      "Blueprint 21: 1 geodes mined\n",
      "Blueprint 22: 0 geodes mined\n",
      "Blueprint 23: 0 geodes mined\n",
      "Blueprint 24: 3 geodes mined\n",
      "Blueprint 25: 0 geodes mined\n",
      "Blueprint 26: 1 geodes mined\n",
      "Blueprint 27: 3 geodes mined\n",
      "Blueprint 28: 2 geodes mined\n",
      "Blueprint 29: 4 geodes mined\n",
      "Blueprint 30: 3 geodes mined\n",
      "Part 1 994\n",
      "Blueprint 1: 57 geodes mined\n",
      "Blueprint 2: 28 geodes mined\n",
      "Blueprint 3: 10 geodes mined\n",
      "Part 2 15960\n"
     ]
    }
   ],
   "source": [
    "import re\n",
    "lines = open('inputs/day19.txt').readlines()\n",
    "lines = [line.strip() for line in lines]\n",
    "\n",
    "costs = list()\n",
    "for line in lines: \n",
    "    # get all integers in line\n",
    "    costs.append([int(i) for i in re.findall(r'\\d+', line)])\n",
    "#costs = [(1,4,2,3,14,2,7), (2,2,3,3,8,3,12)]    # Test example\n",
    "\n",
    "def quality_heuristic(state): \n",
    "    # As the famous saying goes: \n",
    "    # 1 geode in the hand is worth 1000 in the bush\n",
    "    minutes, (robots, inventory, mined) = state\n",
    "    return 1000*mined[3] + 100*mined[2] + 10*mined[1] + mined[0]\n",
    "\n",
    "def bfs(costs, robots, num_minutes, top_queue = 30000):\n",
    "    queue = list()\n",
    "    queue.append((0, (robots, (0,0,0,0), (0,0,0,0)))) # (minutes, (robots, inventory, mined))\n",
    "    max_geodes_mined = 0\n",
    "    depth = 0\n",
    "    while queue:\n",
    "        minutes, (robots, old_inventory, mined) = queue.pop(0)\n",
    "\n",
    "        if minutes > depth: \n",
    "            # Prune our search space!!!\n",
    "            queue.sort(key=quality_heuristic, reverse=True)\n",
    "            queue = queue[:top_queue]\n",
    "            depth = minutes\n",
    "\n",
    "        if minutes == num_minutes:\n",
    "            max_geodes_mined = max(max_geodes_mined, mined[3])\n",
    "            continue\n",
    "       \n",
    "        # Mine ore with the robots\n",
    "        new_inventory = tuple([old_inventory[i] + robots[i] for i in range(4)])\n",
    "        new_mined = tuple([mined[i] + robots[i] for i in range(4)])\n",
    "        \n",
    "        # Case of not building a robot\n",
    "        queue.append((minutes+1, (robots, new_inventory, new_mined)))\n",
    "\n",
    "        # Build new robots, and try building each type of robot\n",
    "        # TODO can we build more than one robot?\n",
    "        for i in range(4):\n",
    "            cost_robot = costs[i]\n",
    "\n",
    "            # Check if we have enough materials to build a robot\n",
    "            if all([old_inventory[j] >= cost_robot[j] for j in range(4)]): # We can build a robot!!\n",
    "                new_robots = list(robots)\n",
    "                new_robots[i] += 1\n",
    "                new_robots = tuple(new_robots)\n",
    "\n",
    "                new_inventory_state = tuple([new_inventory[j] - cost_robot[j] for j in range(4)])\n",
    "                queue.append((minutes+1, (new_robots, new_inventory_state, new_mined)))\n",
    "    return max_geodes_mined\n",
    "\n",
    "max_minutes = 24\n",
    "sum_quality = 0\n",
    "# Part 1\n",
    "# I used a simple queue, which was enough to find the optimal solution\n",
    "# I prune everything too deep using the heuristic that having the higher up materials is better than the lower down materials\n",
    "for blueprint_id, cost_ore_robot, cost_clay_robot, ob_ore, obs_clay, geode_ore, geode_ob in costs:\n",
    "    cost_per_robot = [\n",
    "        (cost_ore_robot, 0, 0, 0),\n",
    "        (cost_clay_robot, 0, 0, 0),\n",
    "        (ob_ore, obs_clay, 0, 0),\n",
    "        (geode_ore, 0, geode_ob, 0)\n",
    "    ]\n",
    "    num_mined = bfs(cost_per_robot, (1,0,0,0), max_minutes, top_queue=1000)\n",
    "\n",
    "    sum_quality += num_mined*blueprint_id\n",
    "    print(f'Blueprint {blueprint_id}: {num_mined} geodes mined')\n",
    "print(\"Part 1\", sum_quality)\n",
    "\n",
    "# Part 2\n",
    "# We now compute for more minutes, but we need to multiply the number of geodes mined\n",
    "# As the short queue I used in part 1 was not enough, I increased it to 10000\n",
    "max_minutes = 32\n",
    "product_geodes = 1\n",
    "for blueprint_id, cost_ore_robot, cost_clay_robot, ob_ore, obs_clay, geode_ore, geode_ob in costs[:3]:\n",
    "    cost_per_robot = [\n",
    "        (cost_ore_robot, 0, 0, 0),\n",
    "        (cost_clay_robot, 0, 0, 0),\n",
    "        (ob_ore, obs_clay, 0, 0),\n",
    "        (geode_ore, 0, geode_ob, 0)\n",
    "    ]\n",
    "    num_mined = bfs(cost_per_robot, (1,0,0,0), max_minutes, top_queue=10000)\n",
    "    product_geodes *= num_mined\n",
    "    print(f'Blueprint {blueprint_id}: {num_mined} geodes mined')\n",
    "print(\"Part 2\", product_geodes)"
   ]
  },
  {
   "cell_type": "code",
   "execution_count": 31,
   "metadata": {},
   "outputs": [
    {
     "name": "stdout",
     "output_type": "stream",
     "text": [
      "Blueprint 1: 57 geodes mined\n",
      "Blueprint 2: 28 geodes mined\n",
      "Blueprint 3: 10 geodes mined\n",
      "Part 2 15960\n"
     ]
    }
   ],
   "source": [
    "\n",
    "\n",
    "\n",
    "# 14820 is not the right answer"
   ]
  },
  {
   "cell_type": "code",
   "execution_count": 2,
   "metadata": {},
   "outputs": [
    {
     "data": {
      "text/plain": [
       "[[1, 3, 4, 3, 10, 2, 7],\n",
       " [2, 4, 4, 4, 12, 3, 8],\n",
       " [3, 4, 4, 4, 17, 2, 13],\n",
       " [4, 2, 2, 2, 20, 2, 14],\n",
       " [5, 3, 4, 4, 5, 3, 12],\n",
       " [6, 2, 4, 4, 11, 3, 8],\n",
       " [7, 3, 4, 3, 17, 3, 7],\n",
       " [8, 2, 3, 3, 11, 2, 16],\n",
       " [9, 3, 3, 3, 9, 3, 7],\n",
       " [10, 4, 4, 4, 9, 4, 16],\n",
       " [11, 4, 4, 2, 16, 4, 16],\n",
       " [12, 2, 3, 2, 17, 3, 19],\n",
       " [13, 4, 4, 2, 10, 3, 14],\n",
       " [14, 4, 3, 2, 13, 2, 10],\n",
       " [15, 3, 3, 2, 19, 2, 12],\n",
       " [16, 4, 3, 2, 20, 3, 9],\n",
       " [17, 3, 4, 2, 11, 2, 10],\n",
       " [18, 2, 4, 4, 18, 2, 11],\n",
       " [19, 4, 4, 3, 14, 3, 8],\n",
       " [20, 4, 4, 4, 8, 4, 14],\n",
       " [21, 2, 4, 3, 20, 2, 17],\n",
       " [22, 3, 4, 3, 15, 4, 16],\n",
       " [23, 4, 4, 2, 17, 3, 11],\n",
       " [24, 3, 3, 2, 13, 3, 12],\n",
       " [25, 3, 3, 3, 19, 3, 17],\n",
       " [26, 3, 4, 3, 12, 3, 17],\n",
       " [27, 3, 4, 2, 15, 3, 7],\n",
       " [28, 3, 4, 4, 14, 4, 10],\n",
       " [29, 3, 3, 2, 15, 3, 9],\n",
       " [30, 4, 4, 2, 7, 4, 13]]"
      ]
     },
     "execution_count": 2,
     "metadata": {},
     "output_type": "execute_result"
    }
   ],
   "source": [
    "costs"
   ]
  },
  {
   "cell_type": "code",
   "execution_count": null,
   "metadata": {},
   "outputs": [],
   "source": []
  }
 ],
 "metadata": {
  "kernelspec": {
   "display_name": "py_310",
   "language": "python",
   "name": "python3"
  },
  "language_info": {
   "codemirror_mode": {
    "name": "ipython",
    "version": 3
   },
   "file_extension": ".py",
   "mimetype": "text/x-python",
   "name": "python",
   "nbconvert_exporter": "python",
   "pygments_lexer": "ipython3",
   "version": "3.10.8"
  },
  "orig_nbformat": 4,
  "vscode": {
   "interpreter": {
    "hash": "da71e0930131d5511609c028eb08f8f6054bf56d7991754172f4b09ef82dda00"
   }
  }
 },
 "nbformat": 4,
 "nbformat_minor": 2
}
