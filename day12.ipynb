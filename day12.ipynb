{
 "cells": [
  {
   "cell_type": "code",
   "execution_count": 47,
   "metadata": {},
   "outputs": [
    {
     "name": "stdout",
     "output_type": "stream",
     "text": [
      "Part 1: 350\n",
      "Part 2: 349\n"
     ]
    }
   ],
   "source": [
    "from collections import defaultdict\n",
    "lines = open('inputs/day12.txt').readlines()\n",
    "lines = [line.strip() for line in lines]\n",
    "height_map = defaultdict(lambda: 999)\n",
    "start = None\n",
    "end = None\n",
    "for y, line in enumerate(lines):\n",
    "    line = line.strip()\n",
    "    for x, char in enumerate(line):\n",
    "        if char == 'S':\n",
    "            start = (y,x)\n",
    "            char = 'a'\n",
    "        elif char == 'E':\n",
    "            end = (y, x)\n",
    "            char = 'z'\n",
    "        height_map[(y,x)] = ord(char) - ord('a')\n",
    "\n",
    "def find_path(start, end):\n",
    "    # A* search\n",
    "    queue = [(0, start, 0)]\n",
    "    visited = set()\n",
    "    while queue:\n",
    "        # Sort by expected distance to end\n",
    "        queue.sort(key=lambda x: x[0])\n",
    "\n",
    "        heuristic_plus_dist, pos, steps = queue.pop(0)\n",
    "        # Check if it is the goal\n",
    "        if pos == end:\n",
    "            return steps\n",
    "\n",
    "        if pos in visited:\n",
    "            continue\n",
    "                    \n",
    "        visited.add(pos)\n",
    "        for y,x in [(0, 1), (0, -1), (1, 0), (-1, 0)]:\n",
    "            new_pos = (pos[0] + y, pos[1] + x)\n",
    "            if new_pos in visited:\n",
    "                continue\n",
    "            height_pos = height_map[pos]\n",
    "            new_height = height_map[new_pos]\n",
    "            \n",
    "            \n",
    "            if new_height - height_pos <= 1:\n",
    "                heuristic = abs(end[0] - new_pos[0]) + abs(end[1] - new_pos[1])\n",
    "                queue.append((heuristic + steps + 1, new_pos, steps + 1))\n",
    "                \n",
    "\n",
    "    #return visited\n",
    "    return 999999\n",
    "visited = find_path(start, end)\n",
    "print('Part 1:', visited)\n",
    "\n",
    "# Part 2\n",
    "min_steps = visited\n",
    "for pos_start in height_map:\n",
    "    if height_map[pos_start] == 0:\n",
    "        visited = find_path(pos_start, end)\n",
    "        if visited < min_steps:\n",
    "            min_steps = visited\n",
    "print('Part 2:', min_steps)"
   ]
  },
  {
   "cell_type": "code",
   "execution_count": 40,
   "metadata": {},
   "outputs": [
    {
     "name": "stdout",
     "output_type": "stream",
     "text": [
      "OOOOOOOaaaOOOOaacaaOOaaaaaaaaaaaaaaaaaaaaOOOOOOOOOOOOOOOOOOOOOOOOOOOOOOOOOOaaaaaa\n",
      "OOOOOOOaaaaOOOaaaaaOOaaaaaaaaaaaaaaaaaaaaaOOOOOOOOOOOOOOOOOOOOOOOOOOOOOOOOOOOaaaa\n",
      "OOOOOOOaaaaOOaaaaaOOOOaaaOOaaaaaaOOOaOaaaaOOOOOOOOOOOOOOOOaaaOOOOOOOOOOOOOOOOaaaa\n",
      "OOOOOOOaaaOOOaaaaaaOOOOOOOOaaaaaaOOOOOaaOOOOOOOOOOOOOOOOOOaaaOOOOOOOOOOOOOOOOaaaa\n",
      "OOOOOOOOOOOOOOOaaaaOOOOOOOaaaaaaaaOOOOOOOOOOOOOOOOOOOOOOOOaaaOOOOOOOOOOOOOOOaaaaa\n",
      "OOOOOOOOaaOOOOOaaOOOOOOOOOaaaaaaaaOOOOOOOOOOOOOOOOOOOOOOOOaaaaOOaaaOOOOOOOOOOOOOO\n",
      "OOOOOOOOaaOOOOOOOOOOOOOOOaaaOOOaaaaOOOaaOaaOOOOOOOOOOaOaOOaaacaaOaaOOOOOOOOOOOOOO\n",
      "OOOOOaaaaaaaaOOOOaOOOOOOOaaaOOOOaaaOOOaaaaaOOOOOOOOOOaaaaaaaOOOOOOOOOOOOOaaOOOOOO\n",
      "OOOOOaaaaaaaaOaaaaOOOOOOOOOOOOOOOOOOOaaaaaOOOOOOOOOOOOOOOOOOOOOOOOOOOaaaaaaOOOOOO\n",
      "OOOOOOOaaaaOOOaaaaaaOOOOOOOOOOOOOOOOOaaaaaaOOOOOOOOOOOOOOOOOOOOOOOOOOaaaaaaaaOOOO\n",
      "OOOOOOOaaaaaOOOaaaaOOOOOOOOOaaOOOOOOOOOaaaaOOOOOOOOOOOOOOOOOOOOOOOOOOaaaaaaaaOOOO\n",
      "OOOOOOaaaaaaOOaaaaaOOOOOOOOOaaaaOOOOOOOaOOOOOOOOOOOOOOOOOOOOOOOOOOOOOOaaaaaaaOOOO\n",
      "OOOOOOaaOOaaOOaaOaaOOOOOOOaaaaaaOOOOOOOOOOOOOOOOOOOOOOOOOOOOOOuuOOOOOOaaaaaOOOOOO\n",
      "OOOOOOOOOOOOOOOOOOOOOOOOOOOaaaaOOOOOOOOaaaOOOOOOOOOOOOttOOOOuuuuuOOOOOaaaaaOOOOOO\n",
      "OOOOOOOOOOOOOOOOOOOOOOOOOOOaaaaaOOOOOOOOaaaaOOOOOOOOtttttuuuuuuuuOOOOOOOOaaOOOOOO\n",
      "OOOOOOOOOOaaaOOaOOOOOOOOOOOaaOaaOOOOOOaaaaaaOOOOOOOOtttttuuuuxxuuOOOOOOOOOOOOOOOO\n",
      "OOOOOOOOOOaaaaaaOaaOOOOOOaOOOOOOOOOOOOaaaaaOOOOOOOOOttxxxxuuxxyyuOOOOOOOOOOOOOOOO\n",
      "OOOOOOOOOOaaaaaaOaaaaaaaaaaOOOOOOOOOOOOaaaaaOOOOOOOOttxxxxxxxxyuuOOOOOOOOOOOOOOOO\n",
      "OOOOOOOOOaaaaaaaOaaaaaaaaaOOOOaaOOOOOOOaaOOaOOOOOOOOtttxxxxxxyyvvvOOOOOOOOOOOOOOO\n",
      "OOOOOOOOOaaaaaaaaaaaaaaaaaOOOOaaaaOOOOOOOOOOOOOOOOOOOttxxxxxyyyvvvvOqqqOOOOOOOOOO\n",
      "OOOOOOOOOaaaaaaaaaaaaaaaaaaOaaaaaaOOOOOOOOOOOOOOOOOOtttxxxEzzyyyyvvvqqqqOOOOOOOOO\n",
      "OOOOOOOOOOOaaaOaaaaaaaaaaaaaOaaaaOOOOOOOOOOOOOOOOOOOtttxxxyyyyyyyyvvvqqqOOOOOOOOO\n",
      "OOOOOOOOOOOaaaOaaaaaaaaaaaaaOaaaaaOaaOOOOOOOOOOOOOOsssxxyyyyyyyyvvvvvqqqOOOOOOOOO\n",
      "OOOOOOOOOOOOOOOOOOaaaOaaaOOOOaaOaaaaaOOOOOOaaOOOOOOsswwwwwwyyyvvvvvvqqqOOOOOOOOOO\n",
      "OOOOOOOOOOOOOOOOOOaaaOaaaOOOOOOOOOaaaOaaaOOaaOOOOOssswwwwwwyyywvvqqqqqqOOOOOOOOOO\n",
      "OOOOOOOOOOOOOOOOOOaaOOaaOOaaaOOaaaaaaaaaaaaaaOOOOOsssswwwswwyywvrqqqqOOOOOOOOOOOO\n",
      "OOOOOOOOOOOOOOOOOOOOOOOOOaaaaOOaaaaaaaaaaOaaaOOOOOOssssssswwwwwwrrqOOOOOOOOOOOOOO\n",
      "OOOOOOOOOOOOOOOOOOOOOOOOOaaaaOOOOaaaaaaOOOaaaOOOOOOOssssssrwwwwrrrOOOOOOOOOOOOOOO\n",
      "OOOOOOOOOOOOOOOOOOOOOOOOOaaaaOOOOaaaaaaOOOaaOOOOOOOOOOOOOsrrwwwrrOOOOOOOOOaOOOOOO\n",
      "OOOOOOOOOOOOOOOOOOOOOOOOOOOOOOOOOaaaaaaaOOOOOOOOOOOOOOOOOOrrrrrrrOOOOOOOOaaaaOOOO\n",
      "OOOOOOOOOOOOOOOOOOOOOOOOOOOOOOOOOaaaOaaaOOOOOOOOOOOOOOOOOOOrrrrrrOOOOOOaaaaaaOOOO\n",
      "OOOOOOOOOOOOOOOOOOOOOOOOOOOOOOOOOaOOOOOOOOOOOOOOOOOOOOOOOOOOrrrrOOOOOOaaaaaaaOOOO\n",
      "OOOOOOOOOOOOOOOOOOOOOOOOOOOOOOOOOOOOOOOOOOOOOOOOOOOOOOOOOOOOOOOOOOOOOOaaaaaOOOOOO\n",
      "OOOOOOOOOOOOOOOOOOOOOOOOOOOOOOOOOaOOOOOOOOOOOOOOOOOOOOOOOOOOOOOOOOOOOaaaaaaOOOOOO\n",
      "OOOOOOOOOOOOOOOOOOOOOOOOOOaOOOOaaaOOOOOOOOOOOOOOOOOOOOOOOOOOOOOOOOOOOOOOOaaOOOOOO\n",
      "OOOOOOOOOOOOOOOOOOOOOOOOOaaaOOOaaaOOaOOOOOOOOOOOOOOOOOOOaOOOOOOOOOOOOOOOOOOOOOOOO\n",
      "OOOOOOOOOOOOOOOOOOOOOOOOOaaaaaaaaaaaaOOOOOOaaaOOOOOOOOOOaaOOOOOOOOOOOOOOOOOOOOOOa\n",
      "OOOOOOOOOOOOOOOOOOOOOOOOOaaaaaaaaaaaOOOOOOOaaaaaOOOOOOOaaaaOOOOOOOOOOOOOOOOOaOOOa\n",
      "OOOOOOOOOOOOOOOOOOOOOOOaaaaaaaaaaaaaaOOOOOaaaaaOOOOOOOOaaaOOOOaaaOOOOOOOOOOOaaaaa\n",
      "OOOOOOOOOOOOOOOOOOOOOOOaaaaaaaaaaaaaaOOOOOaaaaaOOOOOOOOOOOOOOOOOOOOOOOOOOOOOaaaaa\n",
      "OOOOOOOOOOOOOOccOOOOOOOaaaaaaaaaaaaaaOOOOOOaaaaaOOOOOOOOOOOOOOOOOOOOOOOOOOOOaaaaa\n"
     ]
    }
   ],
   "source": [
    "for y in range(len(lines)):\n",
    "    for x in range(len(lines[0])):\n",
    "        if (y, x) in visited:\n",
    "            print('O', end='')\n",
    "        else:\n",
    "            print(lines[y][x], end='')\n",
    "    print()"
   ]
  },
  {
   "cell_type": "code",
   "execution_count": 13,
   "metadata": {},
   "outputs": [
    {
     "data": {
      "text/plain": [
       "defaultdict(<function __main__.<lambda>()>,\n",
       "            {(0, 0): 0,\n",
       "             (0, 1): 0,\n",
       "             (0, 2): 1,\n",
       "             (0, 3): 16,\n",
       "             (0, 4): 15,\n",
       "             (0, 5): 14,\n",
       "             (0, 6): 13,\n",
       "             (0, 7): 12,\n",
       "             (1, 0): 0,\n",
       "             (1, 1): 1,\n",
       "             (1, 2): 2,\n",
       "             (1, 3): 17,\n",
       "             (1, 4): 24,\n",
       "             (1, 5): 23,\n",
       "             (1, 6): 23,\n",
       "             (1, 7): 11,\n",
       "             (2, 0): 0,\n",
       "             (2, 1): 2,\n",
       "             (2, 2): 2,\n",
       "             (2, 3): 18,\n",
       "             (2, 4): 25,\n",
       "             (2, 5): 25,\n",
       "             (2, 6): 23,\n",
       "             (2, 7): 10,\n",
       "             (3, 0): 0,\n",
       "             (3, 1): 2,\n",
       "             (3, 2): 2,\n",
       "             (3, 3): 19,\n",
       "             (3, 4): 20,\n",
       "             (3, 5): 21,\n",
       "             (3, 6): 22,\n",
       "             (3, 7): 9,\n",
       "             (4, 0): 0,\n",
       "             (4, 1): 1,\n",
       "             (4, 2): 3,\n",
       "             (4, 3): 4,\n",
       "             (4, 4): 5,\n",
       "             (4, 5): 6,\n",
       "             (4, 6): 7,\n",
       "             (4, 7): 8})"
      ]
     },
     "execution_count": 13,
     "metadata": {},
     "output_type": "execute_result"
    }
   ],
   "source": [
    "height_map"
   ]
  },
  {
   "cell_type": "code",
   "execution_count": null,
   "metadata": {},
   "outputs": [],
   "source": []
  }
 ],
 "metadata": {
  "kernelspec": {
   "display_name": "Python 3.10.8 ('py_310')",
   "language": "python",
   "name": "python3"
  },
  "language_info": {
   "codemirror_mode": {
    "name": "ipython",
    "version": 3
   },
   "file_extension": ".py",
   "mimetype": "text/x-python",
   "name": "python",
   "nbconvert_exporter": "python",
   "pygments_lexer": "ipython3",
   "version": "3.10.8"
  },
  "orig_nbformat": 4,
  "vscode": {
   "interpreter": {
    "hash": "da71e0930131d5511609c028eb08f8f6054bf56d7991754172f4b09ef82dda00"
   }
  }
 },
 "nbformat": 4,
 "nbformat_minor": 2
}
