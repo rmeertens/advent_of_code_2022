{
 "cells": [
  {
   "cell_type": "code",
   "execution_count": 21,
   "metadata": {},
   "outputs": [
    {
     "name": "stdout",
     "output_type": "stream",
     "text": [
      "2000000 [[-836454, 4345102]] 5181556\n",
      "3219131 [[-1006499, 3204399], [3204401, 4255799]] 12817603219131\n"
     ]
    }
   ],
   "source": [
    "from collections import defaultdict\n",
    "import re\n",
    "lines = open('inputs/day15.txt').readlines()\n",
    "lines = [line.strip() for line in lines]\n",
    "\n",
    "goal_line = 2_000_000\n",
    "search_min_x, search_max_x = 0, 4_000_000\n",
    "search_min_y, search_max_y = 0, 4_000_000\n",
    "# goal_line = 10\n",
    "# search_min_x, search_max_x = 0, 20\n",
    "# search_min_y, search_max_y = 0, 20\n",
    "\n",
    "\n",
    "def x_range(sensor_pos, sensor_range, y):\n",
    "    \"\"\"\n",
    "    Returns the x range of the sensor at y, the end is INCLUSIVE. \n",
    "    \"\"\"\n",
    "\n",
    "    sx, sy = sensor_pos\n",
    "    delta_y = abs(y - sy)\n",
    "    if delta_y > sensor_range:\n",
    "        return list()\n",
    "    delta_x = sensor_range - delta_y\n",
    "    return [sx - delta_x, sx + delta_x]\n",
    "\n",
    "\n",
    "def manhattan_distance(x1, y1, x2, y2):\n",
    "    return abs(x1 - x2) + abs(y1 - y2)\n",
    "\n",
    "\n",
    "sensor_range = dict()\n",
    "for i, line in enumerate(lines):\n",
    "    # Get all numbers including negative ones\n",
    "    sx, sy, bx, by = [int(x) for x in re.findall(r'-?\\d+', line)]\n",
    "    manhattan = manhattan_distance(sx, sy, bx, by)\n",
    "    sensor_range[(sx, sy)] = manhattan\n",
    "\n",
    "# for y in range(100): \n",
    "for y in range(search_max_y): \n",
    "    ranges = list()\n",
    "    for sensor in sensor_range: \n",
    "        sx, sy = sensor\n",
    "        distance = sensor_range[sensor]\n",
    "\n",
    "        xr = x_range(sensor, distance, y)\n",
    "        if xr:\n",
    "            ranges.append(xr)\n",
    "    \n",
    "    # Merge ranges\n",
    "    ranges.sort() # Sort by start\n",
    "    # print(ranges)\n",
    "    merged_ranges = [ranges[0]]\n",
    "    for r in ranges[1:]:\n",
    "        if r[0] <= merged_ranges[-1][1]+1:\n",
    "            merged_ranges[-1][1] = max(merged_ranges[-1][1], r[1])\n",
    "        else: \n",
    "            merged_ranges.append(r)\n",
    "\n",
    "    empty_space = 0\n",
    "    for start, end in merged_ranges: \n",
    "        empty_space += end - start\n",
    "\n",
    "    if y == goal_line:             \n",
    "        print(y, merged_ranges, empty_space)\n",
    "\n",
    "    if len(merged_ranges) > 1: \n",
    "        x = merged_ranges[0][1]+1\n",
    "        print(y, merged_ranges, x*4_000_000+y)\n",
    "\n"
   ]
  },
  {
   "cell_type": "code",
   "execution_count": 6,
   "metadata": {},
   "outputs": [
    {
     "data": {
      "text/plain": [
       "14"
      ]
     },
     "execution_count": 6,
     "metadata": {},
     "output_type": "execute_result"
    }
   ],
   "source": [
    "len(sensor_range)"
   ]
  },
  {
   "cell_type": "code",
   "execution_count": null,
   "metadata": {},
   "outputs": [],
   "source": []
  }
 ],
 "metadata": {
  "kernelspec": {
   "display_name": "Python 3.10.8 ('py_310')",
   "language": "python",
   "name": "python3"
  },
  "language_info": {
   "codemirror_mode": {
    "name": "ipython",
    "version": 3
   },
   "file_extension": ".py",
   "mimetype": "text/x-python",
   "name": "python",
   "nbconvert_exporter": "python",
   "pygments_lexer": "ipython3",
   "version": "3.10.8"
  },
  "orig_nbformat": 4,
  "vscode": {
   "interpreter": {
    "hash": "da71e0930131d5511609c028eb08f8f6054bf56d7991754172f4b09ef82dda00"
   }
  }
 },
 "nbformat": 4,
 "nbformat_minor": 2
}
