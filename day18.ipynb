{
 "cells": [
  {
   "cell_type": "code",
   "execution_count": 3,
   "metadata": {},
   "outputs": [
    {
     "name": "stdout",
     "output_type": "stream",
     "text": [
      "part 1 3412\n",
      "Using search depth to 45\n",
      "Part 2 2018\n"
     ]
    }
   ],
   "source": [
    "lines = open('inputs/day18.txt').readlines()\n",
    "lines = [line.strip() for line in lines]\n",
    "\n",
    "filled_pockets = set()\n",
    "known_outside = set()\n",
    "for line in lines: \n",
    "    x, y, z = [int(x) for x in line.split(',')]\n",
    "    filled_pockets.add((x, y, z))\n",
    "\n",
    "# All the six neighbours of a cube on each side\n",
    "deltas = [\n",
    "    (-1, 0, 0),\n",
    "    (1, 0, 0),\n",
    "    (0, -1, 0),\n",
    "    (0, 1, 0),\n",
    "    (0, 0, -1),\n",
    "    (0, 0, 1),\n",
    "]\n",
    "\n",
    "def get_num_cooling_sides(pockets): \n",
    "    num_cooling_sides = 0 \n",
    "    for x,y,z in pockets:\n",
    "        for dx, dy, dz in deltas:\n",
    "            # If the neighbour is not in the set, it is outside the lava and thus cooling\n",
    "            if (x + dx, y + dy, z + dz) not in pockets:\n",
    "                num_cooling_sides += 1\n",
    "    return num_cooling_sides\n",
    "        \n",
    "num_cooling = get_num_cooling_sides(filled_pockets)        \n",
    "print('part 1', num_cooling)\n",
    "\n",
    "def is_air_pocket_bfs(start, known_lava, known_outside, maxdepth = 10): \n",
    "    visited = set()\n",
    "    queue = [(0, start)] # depth, position\n",
    "    while queue: \n",
    "        cur_depth, square = queue.pop(0)\n",
    "\n",
    "        # No need to re-visit squares or squares that are known to be lava\n",
    "        if square in visited: \n",
    "            continue\n",
    "        if square in known_lava:\n",
    "            continue\n",
    "\n",
    "        if cur_depth > maxdepth or square in known_outside: \n",
    "            # This is NOT an air pocket.\n",
    "            # We have reached the outside, or we have reached the maximum search depth\n",
    "            # This means that both the current square and all the squares in the queue are outside air\n",
    "            while queue: \n",
    "                _, pos = queue.pop()\n",
    "                visited.add(pos)\n",
    "            return False, visited\n",
    "\n",
    "        visited.add(square)\n",
    "\n",
    "        for dx, dy, dz in deltas:\n",
    "            newplace = (square[0] + dx, square[1] + dy, square[2] + dz)\n",
    "            if newplace not in known_lava and newplace not in visited: # keep the queue small\n",
    "                queue.append((cur_depth + 1, newplace))\n",
    "\n",
    "    return True, visited\n",
    "\n",
    "\n",
    "MAX_OUTSIDE_SEARCH_DEPTH = 45 # Found by just running the program a few times with increasingly large numbers\n",
    "print(\"Using search depth to\", MAX_OUTSIDE_SEARCH_DEPTH)\n",
    "for x, y, z in filled_pockets.copy(): \n",
    "    for dx, dy, dz in deltas:\n",
    "        newplace = (x + dx, y + dy, z + dz)\n",
    "\n",
    "        # If we do no know whether this place is outside air or trapped inside lava, add it to either of the groups\n",
    "        if newplace not in filled_pockets and newplace not in known_outside: \n",
    "            is_pocket, visited = is_air_pocket_bfs(newplace, filled_pockets, known_outside, maxdepth=MAX_OUTSIDE_SEARCH_DEPTH)\n",
    "\n",
    "            if is_pocket:\n",
    "                filled_pockets.update(visited)\n",
    "            else:\n",
    "                known_outside.update(visited)\n",
    "\n",
    "# Simply calculate the outside area again\n",
    "cooling_sides = get_num_cooling_sides(filled_pockets)        \n",
    "print(\"Part 2\", cooling_sides)"
   ]
  },
  {
   "cell_type": "code",
   "execution_count": 4,
   "metadata": {},
   "outputs": [
    {
     "data": {
      "text/plain": [
       "3215"
      ]
     },
     "execution_count": 4,
     "metadata": {},
     "output_type": "execute_result"
    }
   ],
   "source": [
    "len(filled_pockets)"
   ]
  },
  {
   "cell_type": "code",
   "execution_count": 5,
   "metadata": {},
   "outputs": [
    {
     "data": {
      "text/plain": [
       "126743"
      ]
     },
     "execution_count": 5,
     "metadata": {},
     "output_type": "execute_result"
    }
   ],
   "source": [
    "len(known_outside)"
   ]
  },
  {
   "cell_type": "code",
   "execution_count": null,
   "metadata": {},
   "outputs": [],
   "source": []
  }
 ],
 "metadata": {
  "kernelspec": {
   "display_name": "py_310",
   "language": "python",
   "name": "python3"
  },
  "language_info": {
   "codemirror_mode": {
    "name": "ipython",
    "version": 3
   },
   "file_extension": ".py",
   "mimetype": "text/x-python",
   "name": "python",
   "nbconvert_exporter": "python",
   "pygments_lexer": "ipython3",
   "version": "3.10.8"
  },
  "orig_nbformat": 4,
  "vscode": {
   "interpreter": {
    "hash": "da71e0930131d5511609c028eb08f8f6054bf56d7991754172f4b09ef82dda00"
   }
  }
 },
 "nbformat": 4,
 "nbformat_minor": 2
}
